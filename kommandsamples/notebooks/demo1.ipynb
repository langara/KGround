{
 "cells": [
  {
   "cell_type": "code",
   "execution_count": null,
   "outputs": [],
   "source": [
    "import pl.mareklangiewicz.kommand.*\n",
    "import pl.mareklangiewicz.kommand.coreutils.Ls\n",
    "import pl.mareklangiewicz.kommand.coreutils.LsOpt.*\n",
    "import pl.mareklangiewicz.kommand.coreutils.ls\n",
    "import pl.mareklangiewicz.kommand.gnome.*\n",
    "import pl.mareklangiewicz.kommand.gnome.GnomeExt.Cmd.list\n",
    "\n",
    "println(\"start\")\n",
    "\n",
    "CliPlatform.SYS.start(gnometerm(bash(gnomeext(list), pause = true)))\n",
    "CliPlatform.SYS.start(gnometerm(bash(ls { -LongFormat; -All }, pause = true)))\n",
    "\n",
    "println(\"end\")\n",
    "\n",
    "val x = \"x\"\n"
   ],
   "metadata": {
    "collapsed": false
   }
  },
  {
   "cell_type": "code",
   "execution_count": null,
   "outputs": [],
   "source": [
    "import pl.mareklangiewicz.kommand.CliPlatform.Companion.SYS\n",
    "import pl.mareklangiewicz.kommand.konfig.*\n",
    "\n",
    "SYS.run {\n",
    "    konfigInUserHomeConfigDir().printAll()\n",
    "}"
   ],
   "metadata": {
    "collapsed": false
   }
  },
  {
   "cell_type": "code",
   "execution_count": null,
   "outputs": [],
   "source": [
    "import pl.mareklangiewicz.kommand.demos.*\n",
    "import pl.mareklangiewicz.kommand.*\n",
    "import pl.mareklangiewicz.kommand.samples.Samples\n",
    "import pl.mareklangiewicz.kommand.coreutils.*\n",
    "\n",
    "//CliPlatform.SYS.LangaraREPL()\n",
    "CliPlatform.SYS.run { \n",
    "//    Samples.CoreUtils.Ls.lsWithHidden.exec().printlns()\n",
    "    ls(\"..\", withHidden = true, style = Ls.Option.indicatorStyle.SLASH).exec().printlns()\n",
    " }"
   ],
   "metadata": {
    "collapsed": false
   }
  },
  {
   "cell_type": "code",
   "execution_count": null,
   "outputs": [],
   "source": [
    "import pl.mareklangiewicz.kommand.CliPlatform.Companion.SYS\n",
    "import pl.mareklangiewicz.kommand.bash\n",
    "import pl.mareklangiewicz.kommand.gnome.startInGnomeTermIfUserConfirms\n",
    "import pl.mareklangiewicz.kommand.printlns\n",
    "import pl.mareklangiewicz.kommand.samples.Samples\n",
    "\n",
    "SYS.run {\n",
    "//    val kmd = Samples.GitHub.help\n",
    "//    val kmd = Samples.GitHub.secretSetFakeSecretInAbcdK\n",
    "    val kmd = Samples.GitHub.secretListForAbcdK\n",
    "    startInGnomeTermIfUserConfirms(kmd)\n",
    "}\n"
   ],
   "metadata": {
    "collapsed": false
   }
  },
  {
   "cell_type": "code",
   "execution_count": null,
   "outputs": [],
   "source": [],
   "metadata": {
    "collapsed": false
   }
  }
 ],
 "metadata": {
  "kernelspec": {
   "display_name": "Kotlin",
   "language": "kotlin",
   "name": "kotlin"
  },
  "language_info": {
   "name": "kotlin",
   "version": "1.8.20",
   "mimetype": "text/x-kotlin",
   "file_extension": ".kt",
   "pygments_lexer": "kotlin",
   "codemirror_mode": "text/x-kotlin",
   "nbconvert_exporter": ""
  },
  "ktnbPluginMetadata": {
   "isBuildProject": true
  }
 },
 "nbformat": 4,
 "nbformat_minor": 0
}
