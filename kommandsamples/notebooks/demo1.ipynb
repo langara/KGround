{
 "cells": [
  {
   "cell_type": "code",
   "execution_count": null,
   "outputs": [],
   "source": [
    "%use coroutines\n",
    "\n",
    "import kotlinx.coroutines.flow.*\n",
    "import pl.mareklangiewicz.kommand.*\n",
    "import pl.mareklangiewicz.kommand.CliPlatform.Companion.SYS\n",
    "import pl.mareklangiewicz.kommand.core.*\n",
    "import pl.mareklangiewicz.kommand.core.LsOpt.*\n",
    "import pl.mareklangiewicz.kommand.gnome.*\n",
    "import pl.mareklangiewicz.kommand.gnome.GnomeExt.Cmd.list\n",
    "import kotlin.time.*\n",
    "\n",
    "@OptIn(ExperimentalTime::class)\n",
    "fun Flow<*>.logEachWithMillisBlocking() = runBlocking { logEachWithMillis() }\n",
    "\n",
    "// TODO NOW: go through this whole notebook again (commented versions too) after refactor; also test input/output sequences (like slow find output)\n",
    "// TODO NOW: analyze ProcessBuilder.startPipeline and understand assumptions/invariants and make sure my \"pipelines\" with line sequences are correct.\n",
    "//    also reproduce example from ProcessBuilder.startPipeline javadoc using my stuff"
   ],
   "metadata": {
    "collapsed": false
   }
  },
  {
   "cell_type": "code",
   "execution_count": null,
   "outputs": [],
   "source": [
    "    /**\n",
    "     * Kinda like .exec, but less strict/explicit, because here in notebook we are in more local \"experimental\" context.\n",
    "     * \n",
    "     * WARNING: Current impl first wait for process to read whole input (blocking) and then starts to consume output.\n",
    "     * If it deadlocks, that is why.. See CliPlatform.execonsume - same problem\n",
    "     */\n",
    "@OptIn(DelicateKommandApi::class, DelicateCoroutinesApi::class)\n",
    "fun Kommand.x(\n",
    "    platform: CliPlatform = SYS,\n",
    "    dir: String? = null,\n",
    "    vararg useNamedArgs: Unit,\n",
    "    inContent: String? = null,\n",
    "    inLinesFlow: Flow<String>? = inContent?.lineSequence()?.asFlow(),\n",
    "    inFile: String? = null,\n",
    "    outFile: String? = null,\n",
    "    outFileAppend: Boolean = false,\n",
    "    errToOut: Boolean = false,\n",
    "    errFile: String? = null,\n",
    "    errFileAppend: Boolean = false,\n",
    "    expectedExit: Int? = 0,\n",
    "    expectedErr: ((List<String>) -> Boolean)? = { it.isEmpty() },\n",
    "    outLinesCollector: FlowCollector<String>? = null,\n",
    "): List<String> = runBlocking {\n",
    "    require(platform.isRedirectFileSupported || (inFile == null && outFile == null)) { \"redirect file not supported here\" }\n",
    "    require(inLinesFlow == null || inFile == null) { \"Either inLinesFlow or inFile or none, but not both\" }\n",
    "    require(outLinesCollector == null || outFile == null) { \"Either outLinesCollector or outFile or none, but not both\" }\n",
    "    val eprocess = platform.start(this@x, \n",
    "        dir = dir, \n",
    "        inFile = inFile, \n",
    "        outFile = outFile, \n",
    "        outFileAppend = outFileAppend, \n",
    "        errToOut = errToOut, \n",
    "        errFile = errFile, \n",
    "        errFileAppend = errFileAppend\n",
    "    )\n",
    "    val inJob = inLinesFlow?.onEach(eprocess.stdin::emit)?.launchIn(this)\n",
    "    val outJob = outLinesCollector?.let { eprocess.stdout.onEach(it::emit).launchIn(this) }\n",
    "    inJob?.join()\n",
    "    outJob?.join()\n",
    "    eprocess\n",
    "        .awaitResult() // inLinesFlow already used\n",
    "        .unwrap(expectedExit, expectedErr)\n",
    "}"
   ],
   "metadata": {
    "collapsed": false
   }
  },
  {
   "cell_type": "code",
   "execution_count": null,
   "outputs": [],
   "source": [
    "SYS.run {\n",
    "    start(gnometerm(bash(gnomeext(list), pause = true)))\n",
    "    start(gnometerm(bash(ls { -LongFormat; -All }, pause = true)))\n",
    "}"
   ],
   "metadata": {
    "collapsed": false
   }
  },
  {
   "cell_type": "code",
   "execution_count": null,
   "outputs": [],
   "source": [
    "ls { -LongFormat; -All }.x {\n",
    "    println(\"out line: $it\")\n",
    "}"
   ],
   "metadata": {
    "collapsed": false
   }
  },
  {
   "cell_type": "code",
   "execution_count": null,
   "outputs": [],
   "source": [
    "val k = ls { -LongFormat; -All }\n",
    "val  ep = SYS.start(k)\n",
    "runBlocking { \n",
    "    ep.stdout.take(3).onEach { delay(1000) }.collect { println(\"out line: $it\") }\n",
    "    ep.awaitExit()\n",
    "}"
   ],
   "metadata": {
    "collapsed": false
   }
  },
  {
   "cell_type": "code",
   "execution_count": null,
   "outputs": [],
   "source": [
    "LsSamples.lsParentWithSlashes.x().logEach()"
   ],
   "metadata": {
    "collapsed": false
   }
  },
  {
   "cell_type": "code",
   "execution_count": null,
   "outputs": [],
   "source": [
    "import pl.mareklangiewicz.kommand.konfig.*\n",
    "\n",
    "SYS.konfigInUserHomeConfigDir().loglns()"
   ],
   "metadata": {
    "collapsed": false
   }
  },
  {
   "cell_type": "code",
   "execution_count": null,
   "outputs": [],
   "source": [
    "import pl.mareklangiewicz.kommand.admin.*\n",
    "import pl.mareklangiewicz.kommand.debian.*\n",
    "import pl.mareklangiewicz.kommand.debian.DpkgAct.*\n",
    "import pl.mareklangiewicz.kommand.samples.Samples\n",
    "\n",
    "SYS.run {\n",
    "    val k =\n",
    "//        Samples.GitHub.help\n",
    "        Samples.GitHub.secretListForAbcdK\n",
    "//        Samples.GitHub.secretSetFakeSecretInAbcdK\n",
    "//        dpkg { -PrintArch }\n",
    "//        dpkg(Status(\"apt\"))\n",
    "//        dpkg(Details(\"findutils\"))\n",
    "//        sudo(bash(\"whoami; pwd; ls\"))\n",
    "//        sudo(kommand(\"aptitude\"))\n",
    "//        sudoEdit(\"/etc/hosts\")\n",
    "//        sudoEdit(\"/etc/fstab\")\n",
    "//        kommand(\"whoami\").withSudo(SudoOpt.User(zenityAskForEntryExec(\"Enter some user name\")))\n",
    "    startInGnomeTermIfUserConfirms(k)\n",
    "}\n"
   ],
   "metadata": {
    "collapsed": false
   }
  },
  {
   "cell_type": "code",
   "execution_count": null,
   "outputs": [],
   "source": [
    "import pl.mareklangiewicz.kommand.github.*\n",
    "\n",
    "runBlocking { \n",
    "    SYS.run { \n",
    "        ghSecretSetTempByHand(secretName = \"FAKE_SECRET_67\", secretValue = \"concretevalue67\", repoPath = \"langara/AbcdK\")\n",
    "     }\n",
    " }"
   ],
   "metadata": {
    "collapsed": false
   }
  },
  {
   "cell_type": "code",
   "execution_count": null,
   "outputs": [],
   "source": [
    "import pl.mareklangiewicz.kommand.samples.*\n",
    "\n",
    "SYS.run {\n",
    "    val rk = Samples.GitHub.secretSetConcreteFakeSecret67InAbcdK.reducedKommand\n",
    "    runBlocking { \n",
    "        exec(rk)\n",
    "    }\n",
    "}"
   ],
   "metadata": {
    "collapsed": false
   }
  },
  {
   "cell_type": "code",
   "execution_count": null,
   "outputs": [],
   "source": [
    "import pl.mareklangiewicz.kommand.debian.*\n",
    "\n",
    "SYS.dpkgSearchOneCommandExec(\"find\")"
   ],
   "metadata": {
    "collapsed": false
   }
  },
  {
   "cell_type": "code",
   "execution_count": null,
   "outputs": [],
   "source": [
    "import pl.mareklangiewicz.kommand.find.*\n",
    "\n",
    "val k = FindSamples.findInKotlinDirNodeModulesDirs\n",
    "k.x {\n",
    "    println(it)\n",
    "}"
   ],
   "metadata": {
    "collapsed": false
   }
  },
  {
   "cell_type": "code",
   "execution_count": null,
   "outputs": [],
   "source": [
    "@file:Suppress(\"DEPRECATION\")\n",
    "\n",
    "import pl.mareklangiewicz.kommand.admin.*\n",
    "import pl.mareklangiewicz.kommand.find.*\n",
    "import kotlin.time.*\n",
    "import kotlin.time.TimeSource.*\n",
    "\n",
    "\n",
    "//    sudoExec(ls(\"/root/\", withHidden = true), inPass = zenityAskForPasswordExec())\n",
    "val k = FindSamples.run {\n",
    "//    findAbcIgnoreCase\n",
    "//    findSomeSamples\n",
    "    findInKotlinDirNodeModulesDirs\n",
    "//    findInKotlinDirBuildDirs\n",
    "//    findSymLinksToKtsFilesInDepsKt\n",
    "//    findDepthMax2FilesInDepsKtAndRunFileOnEach\n",
    "//    findInKotlinKtFilesModifiedIn24h\n",
    "//    findMyLastWeekKotlinCode\n",
    "//    findInKotlinDirNodeModulesDirs\n",
    "}\n",
    "val p = SYS.start(k)\n",
    "p.stdout.logEachWithMillisBlocking()"
   ],
   "metadata": {
    "collapsed": false
   }
  },
  {
   "cell_type": "code",
   "execution_count": null,
   "outputs": [],
   "source": [
    "import pl.mareklangiewicz.kommand.find.*\n",
    "\n",
    "//val tk = findTypicalDetailsTable(\"..\")\n",
    "val tk = FindSamples.findTypicalDetailsTableInParentDir.typedKommand\n",
    "val tp = SYS.start(tk)\n",
    "tp.stdout.onEach { delay(200) }.take(20).logEachWithMillisBlocking()\n"
   ],
   "metadata": {
    "collapsed": false
   }
  },
  {
   "cell_type": "code",
   "execution_count": null,
   "outputs": [],
   "source": [
    "findMyKotlinCode(\n",
    "    withGrepRE = \"import\",\n",
    "    withModifTime24h = FindExpr.NumArg.LessThan(8)\n",
    ").checkInIdeap()"
   ],
   "metadata": {
    "collapsed": false
   }
  },
  {
   "cell_type": "code",
   "execution_count": null,
   "outputs": [],
   "source": [
    "SYS.run {\n",
    "    startInGnomeTermIfUserConfirms(adb(Adb.Command.pair(\"192.168.0.125\", 38451)))\n",
    "}"
   ],
   "metadata": {
    "collapsed": false
   }
  },
  {
   "cell_type": "code",
   "execution_count": null,
   "outputs": [],
   "source": [],
   "metadata": {
    "collapsed": false
   }
  }
 ],
 "metadata": {
  "kernelspec": {
   "display_name": "Kotlin",
   "language": "kotlin",
   "name": "kotlin"
  },
  "language_info": {
   "name": "kotlin",
   "version": "1.8.20",
   "mimetype": "text/x-kotlin",
   "file_extension": ".kt",
   "pygments_lexer": "kotlin",
   "codemirror_mode": "text/x-kotlin",
   "nbconvert_exporter": ""
  },
  "ktnbPluginMetadata": {
   "projectDependencies": true
  }
 },
 "nbformat": 4,
 "nbformat_minor": 0
}
