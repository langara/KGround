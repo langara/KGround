{
 "cells": [
  {
   "cell_type": "code",
   "execution_count": null,
   "outputs": [],
   "source": [
    "%use coroutines\n",
    "\n",
    "import pl.mareklangiewicz.kommand.*\n",
    "import pl.mareklangiewicz.kommand.CliPlatform.Companion.SYS\n",
    "import pl.mareklangiewicz.kommand.core.*\n",
    "import pl.mareklangiewicz.kommand.core.LsOpt.*\n",
    "import pl.mareklangiewicz.kommand.gnome.*\n",
    "import pl.mareklangiewicz.kommand.gnome.GnomeExt.Cmd.list\n",
    "\n",
    "// TODO NOW: go through this whole notebook again (commented versions too) after refactor; also test input/output sequences (like slow find output)\n",
    "// TODO NOW: analyze ProcessBuilder.startPipeline and understand assumptions/invariants and make sure my \"pipelines\" with line sequences are correct.\n",
    "//    also reproduce example from ProcessBuilder.startPipeline javadoc using my stuff"
   ],
   "metadata": {
    "collapsed": false
   }
  },
  {
   "cell_type": "code",
   "execution_count": null,
   "outputs": [],
   "source": [
    "    /**\n",
    "     * Kinda like .exec, but less strict/explicit, because here in notebook we are in more local \"experimental\" context.\n",
    "     * \n",
    "     * WARNING: Current impl first wait for process to read whole input (blocking) and then starts to consume output.\n",
    "     * If it deadlocks, that is why.. See CliPlatform.execonsume - same problem\n",
    "     */\n",
    "@OptIn(DelicateKommandApi::class)\n",
    "fun Kommand.x(\n",
    "    platform: CliPlatform = SYS,\n",
    "    dir: String? = null,\n",
    "    vararg useNamedArgs: Unit,\n",
    "    inContent: String? = null,\n",
    "    inLines: Sequence<String>? = inContent?.lineSequence(),\n",
    "    inFile: String? = null,\n",
    "    outFile: String? = null,\n",
    "    outFileAppend: Boolean = false,\n",
    "    errToOut: Boolean = false,\n",
    "    errFile: String? = null,\n",
    "    errFileAppend: Boolean = false,\n",
    "    expectedExit: Int? = 0,\n",
    "    expectedErr: ((List<String>) -> Boolean)? = { it.isEmpty() },\n",
    "    outLinesConsumer: ((outLines: Sequence<String>) -> Unit)? = null,\n",
    "): List<String> {\n",
    "    require(platform.isRedirectFileSupported || (inFile == null && outFile == null)) { \"redirect file not supported here\" }\n",
    "    require(inLines == null || inFile == null) { \"Either inLines or inFile or none, but not both\" }\n",
    "    require(outLinesConsumer == null || outFile == null) { \"Either outLinesConsumer or outFile or none, but not both\" }\n",
    "    val eprocess = platform.start(this, \n",
    "        dir = dir, \n",
    "        inFile = inFile, \n",
    "        outFile = outFile, \n",
    "        outFileAppend = outFileAppend, \n",
    "        errToOut = errToOut, \n",
    "        errFile = errFile, \n",
    "        errFileAppend = errFileAppend\n",
    "    )\n",
    "    inLines?.let(eprocess::useInLines)\n",
    "    outLinesConsumer?.run { eprocess.useOutLines { this(it) } }\n",
    "    return eprocess\n",
    "        .waitForResult() // inLines already used\n",
    "        .unwrap(expectedExit, expectedErr)\n",
    "}"
   ],
   "metadata": {
    "collapsed": false
   }
  },
  {
   "cell_type": "code",
   "execution_count": null,
   "outputs": [],
   "source": [
    "SYS.run {\n",
    "    start(gnometerm(bash(gnomeext(list), pause = true)))\n",
    "    start(gnometerm(bash(ls { -LongFormat; -All }, pause = true)))\n",
    "}"
   ],
   "metadata": {
    "collapsed": false
   }
  },
  {
   "cell_type": "code",
   "execution_count": null,
   "outputs": [],
   "source": [
    "ls { -LongFormat; -All }.x {\n",
    "    it.take(4).forEach { println(\"out line: $it\") }\n",
    "}"
   ],
   "metadata": {
    "collapsed": false
   }
  },
  {
   "cell_type": "code",
   "execution_count": null,
   "outputs": [],
   "source": [
    "LsSamples.lsParentWithSlashes.x().loglns()"
   ],
   "metadata": {
    "collapsed": false
   }
  },
  {
   "cell_type": "code",
   "execution_count": null,
   "outputs": [],
   "source": [
    "import pl.mareklangiewicz.kommand.konfig.*\n",
    "\n",
    "SYS.konfigInUserHomeConfigDir().loglns()"
   ],
   "metadata": {
    "collapsed": false
   }
  },
  {
   "cell_type": "code",
   "execution_count": null,
   "outputs": [],
   "source": [
    "import pl.mareklangiewicz.kommand.admin.*\n",
    "import pl.mareklangiewicz.kommand.debian.*\n",
    "import pl.mareklangiewicz.kommand.debian.DpkgAct.*\n",
    "import pl.mareklangiewicz.kommand.samples.Samples\n",
    "\n",
    "SYS.run {\n",
    "    val k =\n",
    "        Samples.GitHub.help\n",
    "//        Samples.GitHub.secretListForAbcdK\n",
    "//        Samples.GitHub.secretSetFakeSecretInAbcdK\n",
    "//        dpkg { -PrintArch }\n",
    "//        dpkg(Status(\"apt\"))\n",
    "//        dpkg(Details(\"findutils\"))\n",
    "//        sudo(bash(\"whoami; pwd; ls\"))\n",
    "//        sudo(kommand(\"aptitude\"))\n",
    "//        sudoEdit(\"/etc/hosts\")\n",
    "//        sudoEdit(\"/etc/fstab\")\n",
    "//        kommand(\"whoami\").withSudo(SudoOpt.User(zenityAskForEntryExec(\"Enter some user name\")))\n",
    "    startInGnomeTermIfUserConfirms(k)\n",
    "}\n"
   ],
   "metadata": {
    "collapsed": false
   }
  },
  {
   "cell_type": "code",
   "execution_count": null,
   "outputs": [],
   "source": [
    "import pl.mareklangiewicz.kommand.debian.*\n",
    "\n",
    "SYS.dpkgSearchOneCommandExec(\"find\")"
   ],
   "metadata": {
    "collapsed": false
   }
  },
  {
   "cell_type": "code",
   "execution_count": null,
   "outputs": [],
   "source": [
    "import pl.mareklangiewicz.kommand.admin.*\n",
    "import pl.mareklangiewicz.kommand.find.*\n",
    "import kotlin.time.*\n",
    "import kotlin.time.TimeSource.*\n",
    "\n",
    "@OptIn(ExperimentalTime::class)\n",
    "SYS.run {\n",
    "//    sudoExec(ls(\"/root/\", withHidden = true), inPass = zenityAskForPasswordExec())\n",
    "//    FindSamples.findAbcIgnoreCase.exec()\n",
    "//    FindSamples.findSomeSamples.exec()\n",
    "//    FindSamples.findInKotlinDirNodeModulesDirs.exec().printlns()\n",
    "//    FindSamples.findInKotlinDirBuildDirs.exec().printlns()\n",
    "//    FindSamples.findSymLinksToKtsFilesInDepsKt.exec().printlns()\n",
    "//    FindSamples.findDepthMax2FilesInDepsKtAndRunFileOnEach.exec().printlns()\n",
    "//    FindSamples.findInKotlinKtFilesModifiedIn24h.exec().printlns()\n",
    "//    FindSamples.findMyLastWeekKotlinCode.exec().printlns()\n",
    "    val k = FindSamples.findInKotlinDirNodeModulesDirs\n",
    "    val p = start(k)\n",
    "    p.useOutLines {\n",
    "        it.loglnsWithMillis()\n",
    "    }\n",
    "    val r = p.waitForResult()\n",
    "    println(r)\n",
    "}"
   ],
   "metadata": {
    "collapsed": false
   }
  },
  {
   "cell_type": "code",
   "execution_count": null,
   "outputs": [],
   "source": [
    "import pl.mareklangiewicz.kommand.find.*\n",
    "\n",
    "val llist = SYS.findTypicalDetailsTableExec(\"..\")\n",
    "llist.map { it.joinToString(\",\") }.joinToString(\"\\n\")\n"
   ],
   "metadata": {
    "collapsed": false
   }
  },
  {
   "cell_type": "code",
   "execution_count": null,
   "outputs": [],
   "source": [
    "findMyKotlinCode(\n",
    "    withGrepRE = \"import\",\n",
    "    withModifTime24h = FindExpr.NumArg.LessThan(8)\n",
    ").checkInIdeap()"
   ],
   "metadata": {
    "collapsed": false
   }
  },
  {
   "cell_type": "code",
   "execution_count": null,
   "outputs": [],
   "source": [
    "SYS.run {\n",
    "    startInGnomeTermIfUserConfirms(adb(Adb.Command.pair(\"192.168.0.125\", 38451)))\n",
    "}"
   ],
   "metadata": {
    "collapsed": false
   }
  }
 ],
 "metadata": {
  "kernelspec": {
   "display_name": "Kotlin",
   "language": "kotlin",
   "name": "kotlin"
  },
  "language_info": {
   "name": "kotlin",
   "version": "1.8.20",
   "mimetype": "text/x-kotlin",
   "file_extension": ".kt",
   "pygments_lexer": "kotlin",
   "codemirror_mode": "text/x-kotlin",
   "nbconvert_exporter": ""
  },
  "ktnbPluginMetadata": {
   "projectDependencies": true
  }
 },
 "nbformat": 4,
 "nbformat_minor": 0
}
