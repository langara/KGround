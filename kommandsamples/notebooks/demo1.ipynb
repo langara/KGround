{
 "cells": [
  {
   "cell_type": "code",
   "execution_count": null,
   "outputs": [],
   "source": [
    "import pl.mareklangiewicz.kommand.*\n",
    "import pl.mareklangiewicz.kommand.CliPlatform.Companion.SYS\n",
    "import pl.mareklangiewicz.kommand.core.*\n",
    "import pl.mareklangiewicz.kommand.core.LsOpt.*\n",
    "import pl.mareklangiewicz.kommand.gnome.*\n",
    "import pl.mareklangiewicz.kommand.gnome.GnomeExt.Cmd.list\n",
    "\n",
    "SYS.run {\n",
    "    start(gnometerm(bash(gnomeext(list), pause = true)))\n",
    "    start(gnometerm(bash(ls { -LongFormat; -All }, pause = true)))\n",
    "}\n",
    "\n",
    "\n"
   ],
   "metadata": {
    "collapsed": false
   }
  },
  {
   "cell_type": "code",
   "execution_count": null,
   "outputs": [],
   "source": [
    "SYS.run {\n",
    "    LsSamples.lsWithSlashes.exec().printlns()\n",
    "}"
   ],
   "metadata": {
    "collapsed": false
   }
  },
  {
   "cell_type": "code",
   "execution_count": null,
   "outputs": [],
   "source": [
    "import pl.mareklangiewicz.kommand.konfig.*\n",
    "\n",
    "SYS.konfigInUserHomeConfigDir().printAll()"
   ],
   "metadata": {
    "collapsed": false
   }
  },
  {
   "cell_type": "code",
   "execution_count": null,
   "outputs": [],
   "source": [
    "import pl.mareklangiewicz.kommand.debian.*\n",
    "import pl.mareklangiewicz.kommand.samples.Samples\n",
    "\n",
    "SYS.run {\n",
    "//    val kmd = Samples.GitHub.help\n",
    "//    val kmd = Samples.GitHub.secretSetFakeSecretInAbcdK\n",
    "//    val kmd = Samples.GitHub.secretListForAbcdK\n",
    "    val kmd = dpkg { -DpkgAct.Version }\n",
    "    startInGnomeTermIfUserConfirms(kmd)\n",
    "}\n"
   ],
   "metadata": {
    "collapsed": false
   }
  },
  {
   "cell_type": "code",
   "execution_count": null,
   "outputs": [],
   "source": [],
   "metadata": {
    "collapsed": false
   }
  }
 ],
 "metadata": {
  "kernelspec": {
   "display_name": "Kotlin",
   "language": "kotlin",
   "name": "kotlin"
  },
  "language_info": {
   "name": "kotlin",
   "version": "1.8.20",
   "mimetype": "text/x-kotlin",
   "file_extension": ".kt",
   "pygments_lexer": "kotlin",
   "codemirror_mode": "text/x-kotlin",
   "nbconvert_exporter": ""
  },
  "ktnbPluginMetadata": {
   "isBuildProject": true
  }
 },
 "nbformat": 4,
 "nbformat_minor": 0
}
