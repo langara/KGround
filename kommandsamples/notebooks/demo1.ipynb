{
 "cells": [
  {
   "cell_type": "code",
   "execution_count": null,
   "outputs": [],
   "source": [
    "import pl.mareklangiewicz.kommand.*\n",
    "import pl.mareklangiewicz.kommand.CliPlatform.Companion.SYS\n",
    "import pl.mareklangiewicz.kommand.core.*\n",
    "import pl.mareklangiewicz.kommand.core.LsOpt.*\n",
    "import pl.mareklangiewicz.kommand.gnome.*\n",
    "import pl.mareklangiewicz.kommand.gnome.GnomeExt.Cmd.list\n",
    "\n",
    "SYS.run {\n",
    "    start(gnometerm(bash(gnomeext(list), pause = true)))\n",
    "    start(gnometerm(bash(ls { -LongFormat; -All }, pause = true)))\n",
    "}\n",
    "\n",
    "\n"
   ],
   "metadata": {
    "collapsed": false
   }
  },
  {
   "cell_type": "code",
   "execution_count": null,
   "outputs": [],
   "source": [
    "SYS.run {\n",
    "    LsSamples.lsParentWithSlashes.exec().printlns()\n",
    "}"
   ],
   "metadata": {
    "collapsed": false
   }
  },
  {
   "cell_type": "code",
   "execution_count": null,
   "outputs": [],
   "source": [
    "import pl.mareklangiewicz.kommand.konfig.*\n",
    "\n",
    "SYS.konfigInUserHomeConfigDir().printAll()"
   ],
   "metadata": {
    "collapsed": false
   }
  },
  {
   "cell_type": "code",
   "execution_count": null,
   "outputs": [],
   "source": [
    "import pl.mareklangiewicz.kommand.admin.*\n",
    "import pl.mareklangiewicz.kommand.debian.*\n",
    "import pl.mareklangiewicz.kommand.debian.DpkgAct.*\n",
    "import pl.mareklangiewicz.kommand.samples.Samples\n",
    "\n",
    "SYS.run {\n",
    "    val kmd =\n",
    "//        Samples.GitHub.help\n",
    "//        Samples.GitHub.secretSetFakeSecretInAbcdK\n",
    "//        Samples.GitHub.secretListForAbcdK\n",
    "//        dpkg { -DpkgAct.PrintArch }\n",
    "//        dpkg(Status(\"apt\"))\n",
    "//        dpkg(Details(\"findutils\"))\n",
    "//        sudo(bash(\"whoami; pwd; ls\"))\n",
    "//        sudo(kommand(\"aptitude\"))\n",
    "//        sudoEdit(\"/etc/hosts\")\n",
    "        sudoEdit(\"/etc/fstab\")\n",
    "//        kommand(\"whoami\").withSudo(SudoOpt.User(zenityAskForEntryExec(\"Enter some user name\")))\n",
    "    startInGnomeTermIfUserConfirms(kmd)\n",
    "}\n"
   ],
   "metadata": {
    "collapsed": false
   }
  },
  {
   "cell_type": "code",
   "execution_count": null,
   "outputs": [],
   "source": [
    "import pl.mareklangiewicz.kommand.debian.*\n",
    "\n",
    "SYS.dpkgSearchOneCommandExec(\"find\")"
   ],
   "metadata": {
    "collapsed": false
   }
  },
  {
   "cell_type": "code",
   "execution_count": null,
   "outputs": [],
   "source": [
    "import pl.mareklangiewicz.kommand.admin.*\n",
    "import pl.mareklangiewicz.kommand.find.*\n",
    "\n",
    "SYS.run {\n",
    "//    sudoExec(ls(\"/root/\", withHidden = true), inPass = zenityAskForPasswordExec())\n",
    "//    FindSamples.findAbcIgnoreCase.exec()\n",
    "//    FindSamples.findSomeSamples.exec()\n",
    "//    FindSamples.findNodeModulesDirs.exec().printlns()\n",
    "//    FindSamples.findBuildDirs.exec().printlns()\n",
    "//    FindSamples.findSymLinksToKtsFilesInDepsKt.exec().printlns()\n",
    "    FindSamples.findDepthMax2FilesInDepsKtAndRunFileOnEach.exec().printlns()\n",
    "//    FindSamples.findInKotlinKtFilesModifiedIn24h.exec().printlns()\n",
    "}"
   ],
   "metadata": {
    "collapsed": false
   }
  },
  {
   "cell_type": "code",
   "execution_count": null,
   "outputs": [],
   "source": [
    "import pl.mareklangiewicz.kommand.find.*\n",
    "\n",
    "SYS.findTypicalDetailsTableExec(\"..\")\n"
   ],
   "metadata": {
    "collapsed": false
   }
  },
  {
   "cell_type": "code",
   "execution_count": null,
   "outputs": [],
   "source": [
    "import pl.mareklangiewicz.kommand.find.*\n",
    "\n",
    "SYS.findMyKotlinCodeExec(withModifTime24h = FindExpr.NumArg.LessThan(8)).printlns()"
   ],
   "metadata": {
    "collapsed": false
   }
  },
  {
   "cell_type": "code",
   "execution_count": null,
   "outputs": [],
   "source": [],
   "metadata": {
    "collapsed": false
   }
  }
 ],
 "metadata": {
  "kernelspec": {
   "display_name": "Kotlin",
   "language": "kotlin",
   "name": "kotlin"
  },
  "language_info": {
   "name": "kotlin",
   "version": "1.8.20",
   "mimetype": "text/x-kotlin",
   "file_extension": ".kt",
   "pygments_lexer": "kotlin",
   "codemirror_mode": "text/x-kotlin",
   "nbconvert_exporter": ""
  },
  "ktnbPluginMetadata": {
   "projectDependencies": true
  }
 },
 "nbformat": 4,
 "nbformat_minor": 0
}
