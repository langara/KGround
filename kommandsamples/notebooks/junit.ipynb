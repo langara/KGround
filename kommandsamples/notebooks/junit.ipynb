{
 "cells": [
  {
   "cell_type": "markdown",
   "source": [
    "- Nice example from\n",
    "    - [youtrack](https://youtrack.jetbrains.com/issue/KTNB-261/Create-example-notebook-showcasing-running-JVM-tests-inside-it-and-obtaining-its-results)\n",
    "\n",
    "- Todo\n",
    "    - analyze more (USE, onClassAnnotation, SessionOptions, etc)"
   ],
   "metadata": {
    "collapsed": false
   }
  },
  {
   "cell_type": "code",
   "execution_count": null,
   "outputs": [],
   "source": [
    "SessionOptions.resolveMpp = true"
   ],
   "metadata": {
    "collapsed": false
   }
  },
  {
   "cell_type": "code",
   "execution_count": null,
   "metadata": {
    "collapsed": true
   },
   "outputs": [],
   "source": [
    "USE {\n",
    "    dependencies {\n",
    "        implementation(\"org.junit.jupiter:junit-jupiter-api:5.8.0\")\n",
    "        implementation(\"org.junit.jupiter:junit-jupiter-engine:5.8.0\")\n",
    "        implementation(\"org.junit.platform:junit-platform-launcher:1.9.3\")\n",
    "        implementation(\"io.kotest:kotest-assertions-core:5.6.2\")\n",
    "    }\n",
    "}"
   ]
  },
  {
   "cell_type": "code",
   "execution_count": null,
   "outputs": [],
   "source": [
    "import org.junit.platform.engine.TestExecutionResult\n",
    "import org.junit.platform.launcher.TestExecutionListener\n",
    "import org.junit.platform.launcher.TestIdentifier\n",
    "import org.junit.platform.launcher.TestPlan\n",
    "\n",
    "class ConsoleTestExecutionListener : TestExecutionListener {\n",
    "    override fun testPlanExecutionStarted(testPlan: TestPlan) {\n",
    "        // Initialization code if needed\n",
    "    }\n",
    "\n",
    "    override fun executionStarted(testIdentifier: TestIdentifier) {\n",
    "        // Called when a test execution starts\n",
    "        println(\"Running test: ${testIdentifier.displayName}\")\n",
    "    }\n",
    "\n",
    "    override fun executionFinished(\n",
    "        testIdentifier: TestIdentifier,\n",
    "        testExecutionResult: TestExecutionResult\n",
    "    ) {\n",
    "        // Called when a test execution finishes\n",
    "        println(\"Test [${testIdentifier.displayName}]: ${testExecutionResult.status}\")\n",
    "        val throwable = testExecutionResult.throwable.orElse(null)\n",
    "        if (throwable != null) {\n",
    "            println(\"Failure reason: ${throwable.stackTraceToString()}\")\n",
    "        }\n",
    "    }\n",
    "\n",
    "    override fun testPlanExecutionFinished(testPlan: TestPlan?) {\n",
    "        // Cleanup code if needed\n",
    "    }\n",
    "}"
   ],
   "metadata": {
    "collapsed": false
   }
  },
  {
   "cell_type": "code",
   "execution_count": null,
   "outputs": [],
   "source": [
    "import org.junit.jupiter.api.Test\n",
    "import org.junit.platform.launcher.core.LauncherFactory\n",
    "import org.junit.platform.engine.discovery.DiscoverySelectors\n",
    "import org.junit.platform.launcher.LauncherDiscoveryRequest\n",
    "import org.junit.platform.launcher.core.LauncherDiscoveryRequestBuilder\n",
    "import kotlin.reflect.KClass\n",
    "\n",
    "fun runTestClass(kClass: KClass<*>) {\n",
    "    val launcher = LauncherFactory.create()\n",
    "    launcher.registerTestExecutionListeners(ConsoleTestExecutionListener())\n",
    "    val request: LauncherDiscoveryRequest = LauncherDiscoveryRequestBuilder.request()\n",
    "        .selectors(DiscoverySelectors.selectClass(kClass.java))\n",
    "        .build()\n",
    "\n",
    "    val testPlan = launcher.discover(request)\n",
    "    \n",
    "    launcher.execute(testPlan)\n",
    "}"
   ],
   "metadata": {
    "collapsed": false
   }
  },
  {
   "cell_type": "code",
   "execution_count": null,
   "outputs": [],
   "source": [
    "annotation class MyTest\n",
    "USE {\n",
    "    onClassAnnotation<MyTest> { classes ->\n",
    "        classes.forEach { runTestClass(it) }\n",
    "    }\n",
    "}"
   ],
   "metadata": {
    "collapsed": false
   }
  },
  {
   "cell_type": "code",
   "execution_count": null,
   "outputs": [],
   "source": [
    "blabla "
   ],
   "metadata": {
    "collapsed": false
   }
  },
  {
   "cell_type": "code",
   "execution_count": null,
   "outputs": [],
   "source": [
    "import io.kotest.matchers.shouldBe\n",
    "\n",
    "@MyTest\n",
    "class MyTestClass1 {\n",
    "    // Define your test methods here\n",
    "    @Test\n",
    "    fun test1() {\n",
    "        println(123)\n",
    "        (6 * 7) shouldBe 43\n",
    "    }\n",
    "}"
   ],
   "metadata": {
    "collapsed": false
   }
  }
 ],
 "metadata": {
  "kernelspec": {
   "display_name": "Kotlin",
   "language": "kotlin",
   "name": "kotlin"
  },
  "language_info": {
   "name": "kotlin",
   "version": "1.8.20",
   "mimetype": "text/x-kotlin",
   "file_extension": ".kt",
   "pygments_lexer": "kotlin",
   "codemirror_mode": "text/x-kotlin",
   "nbconvert_exporter": ""
  },
  "ktnbPluginMetadata": {
   "isAddProjectLibrariesToClasspath": false
  }
 },
 "nbformat": 4,
 "nbformat_minor": 0
}
