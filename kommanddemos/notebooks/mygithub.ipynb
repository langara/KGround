{
 "cells": [
  {
   "cell_type": "markdown",
   "source": [
    "## Experiments with github and dataframe\n",
    "\n",
    "Based on\n",
    "- [dataframe github example](https://github.com/Kotlin/dataframe/blob/master/examples/notebooks/github/github.ipynb)"
   ],
   "metadata": {
    "collapsed": false
   }
  },
  {
   "cell_type": "code",
   "execution_count": null,
   "metadata": {
    "pycharm": {
     "name": "#%%\n"
    }
   },
   "outputs": [],
   "source": [
    "%useLatestDescriptors\n",
    "%use dataframe, kandy"
   ]
  },
  {
   "cell_type": "code",
   "execution_count": null,
   "metadata": {
    "pycharm": {
     "name": "#%%\n"
    }
   },
   "outputs": [],
   "source": [
    "@file:DependsOn(\"org.http4k:http4k-core:4.16.3.0\")\n",
    "@file:DependsOn(\"org.http4k:http4k-client-apache:4.16.3.0\")"
   ]
  },
  {
   "cell_type": "code",
   "execution_count": null,
   "metadata": {
    "pycharm": {
     "name": "#%%\n"
    }
   },
   "outputs": [],
   "source": [
    "import org.http4k.client.ApacheClient\n",
    "import org.http4k.core.Method.GET\n",
    "import org.http4k.core.Request\n",
    "\n",
    "val client = ApacheClient()"
   ]
  },
  {
   "cell_type": "code",
   "execution_count": null,
   "metadata": {
    "pycharm": {
     "name": "#%%\n"
    }
   },
   "outputs": [],
   "source": [
    "data class Credentials(val name: String, val token: String)"
   ]
  },
  {
   "cell_type": "code",
   "execution_count": null,
   "metadata": {
    "pycharm": {
     "name": "#%%\n"
    }
   },
   "outputs": [],
   "source": [
    "import java.util.Base64\n",
    "\n",
    "fun authHeader(name: String, token: String): String {\n",
    "    return \"Basic \" + Base64.getEncoder().encode(\"$name:$token\".toByteArray()).toString(Charsets.UTF_8)\n",
    "}\n",
    "\n",
    "fun readDf(url: String, credentials: Credentials?): DataFrame<*> {\n",
    "    val request = Request(GET, url).let {\n",
    "        if (credentials != null) {\n",
    "            it.header(\"Authorization\", authHeader(credentials.name, credentials.token))\n",
    "        } else {\n",
    "            it\n",
    "        }\n",
    "    }.query(\"per_page\", \"100\")\n",
    "    return DataFrame.readJsonStr(client(request).bodyString())\n",
    "}"
   ]
  },
  {
   "cell_type": "code",
   "execution_count": null,
   "metadata": {
    "pycharm": {
     "name": "#%%\n"
    }
   },
   "outputs": [],
   "source": [
    "val credentials: Credentials? = Credentials( \"langara\", System.getenv(\"MY_TEST_RO_GH_TOKEN\"))\n",
    "\n",
    "fun readDf(url: String) = readDf(url, credentials)"
   ]
  },
  {
   "cell_type": "code",
   "execution_count": null,
   "metadata": {
    "pycharm": {
     "name": "#%%\n"
    }
   },
   "outputs": [],
   "source": [
    "import org.http4k.core.HttpHandler\n",
    "\n",
    "data class PageInfo(val body: DataFrame<*>, val pageUrls: List<String>)\n",
    "\n",
    "fun parseLinkHeader(links: Pair<String, String?>): String? = links.second?.split(\",\")\n",
    "        ?.map { it.split(\";\")\n",
    "        .map { it.trim() } }\n",
    "        ?.find { (_, rel) -> rel == \"rel=\\\"last\\\"\" }\n",
    "        ?.first()\n",
    "        ?.drop(1)?.dropLast(1)\n",
    "        \n",
    "\n",
    "val PAGE_REGEX = \"page=(\\\\d+)$\".toRegex()\n",
    "fun readPageInfo(client: HttpHandler, url: String): PageInfo {\n",
    "    val firstPage = client(Request(GET, url).query(\"per_page\", \"100\"))\n",
    "    val firstPageDf = DataFrame.readJsonStr(firstPage.bodyString())\n",
    "    val links = firstPage.headers.find { (name, _) -> name == \"Link\" } ?: return PageInfo(firstPageDf, emptyList())\n",
    "    val lastPageUrl = parseLinkHeader(links) ?: error(\"Expected 'Link' header with non empty value 'rel=last' attribute on endpoint $url, but was $links\")\n",
    "    val n = PAGE_REGEX.find(lastPageUrl)?.groupValues?.get(1)?.toInt()!!\n",
    "    val pageUrls = (2..n).map {\n",
    "        lastPageUrl.replace(PAGE_REGEX, \"page=$it\")    \n",
    "    }\n",
    "    return PageInfo(firstPageDf, pageUrls)\n",
    "}"
   ]
  },
  {
   "cell_type": "code",
   "execution_count": null,
   "metadata": {
    "pycharm": {
     "name": "#%%\n"
    }
   },
   "outputs": [],
   "source": [
    "fun readPaginatedEndpoint(url: String): DataFrame<*> {\n",
    "    val pageInfo = readPageInfo(client, url)\n",
    "    return pageInfo.body.concat(pageInfo.pageUrls.map { readDf(it) }.concat())\n",
    "}"
   ]
  },
  {
   "cell_type": "markdown",
   "metadata": {
    "pycharm": {
     "name": "#%% md\n"
    }
   },
   "source": [
    "Section 2. Build the data sample"
   ]
  },
  {
   "cell_type": "code",
   "execution_count": null,
   "metadata": {
    "pycharm": {
     "name": "#%%\n"
    }
   },
   "outputs": [],
   "source": [
    "val jb = readDf(\"https://api.github.com/orgs/JetBrains\")\n",
    "jb"
   ]
  },
  {
   "cell_type": "code",
   "execution_count": null,
   "metadata": {
    "pycharm": {
     "name": "#%%\n"
    }
   },
   "outputs": [],
   "source": [
    "jb.schema()"
   ]
  },
  {
   "cell_type": "markdown",
   "metadata": {
    "pycharm": {
     "name": "#%% md\n"
    }
   },
   "source": [
    "Most of the data in the dataframe are just URLs. "
   ]
  },
  {
   "cell_type": "code",
   "execution_count": null,
   "metadata": {
    "pycharm": {
     "name": "#%%\n"
    }
   },
   "outputs": [],
   "source": [
    "val jb1 = jb\n",
    "    .add(\"repos\") { readDf(repos_url) }\n",
    "    .add(\"members\") { readPaginatedEndpoint(\"${url}/public_members\") }\n",
    "jb1"
   ]
  },
  {
   "cell_type": "markdown",
   "metadata": {
    "pycharm": {
     "name": "#%% md\n"
    }
   },
   "source": [
    "But now we have repositories, each repository has contributors_url. If we want to download contributors, we need to add a new column to `repos`. "
   ]
  },
  {
   "cell_type": "code",
   "execution_count": null,
   "metadata": {
    "pycharm": {
     "name": "#%%\n"
    }
   },
   "outputs": [],
   "source": [
    "val jb2 = jb1\n",
    "    .convert { repos }.with { \n",
    "        it.add(\"contributors\") { readDf(contributors_url) }\n",
    "    }"
   ]
  },
  {
   "cell_type": "markdown",
   "metadata": {
    "pycharm": {
     "name": "#%% md\n"
    }
   },
   "source": [
    "Unfortunately, it gets worse when you need to add a new child column to some deeply nested column. Like, for example, downloading a list of followers for each contributor of each repository would require writing this code:\n",
    "```\n",
    "jb2.convert { repos }.with {\n",
    "    it.convert { \n",
    "        contributors \n",
    "    }.with { \n",
    "        it.add(\"followers\") { readDf(followers_url) } \n",
    "    }\n",
    "}\n",
    "```\n",
    "You can still do it, if you need to."
   ]
  },
  {
   "cell_type": "code",
   "execution_count": null,
   "metadata": {
    "pycharm": {
     "name": "#%%\n"
    }
   },
   "outputs": [],
   "source": [
    "jb2.schema()"
   ]
  },
  {
   "cell_type": "markdown",
   "metadata": {
    "pycharm": {
     "name": "#%% md\n"
    }
   },
   "source": [
    "Resulting dataframe has a lot of columns. We can use `select` and `remove` to filter them. Both operations provide DSL for selecting arbitrary set of columns https://kotlin.github.io/dataframe/columnselectors.html"
   ]
  },
  {
   "cell_type": "code",
   "execution_count": null,
   "metadata": {
    "pycharm": {
     "name": "#%%\n"
    }
   },
   "outputs": [],
   "source": [
    "val minifiedSample = jb2\n",
    "    .select { cols(url, name, repos, members) }\n",
    "    // Like before, we use convert to create dataframe with changed values in nested column\n",
    "    .convert { members }.with { it.remove { endsWith(\"_url\") } }\n",
    "    .convert { repos }.with { it.remove { endsWith(\"_url\").except(html_url) } }\n",
    "    .convert { repos }.with { it.remove { owner } }\n",
    "    .convert { repos }.with { \n",
    "        it.convert { contributors }.with { it.remove { endsWith(\"_url\") } } \n",
    "    }"
   ]
  },
  {
   "cell_type": "code",
   "execution_count": null,
   "metadata": {
    "pycharm": {
     "name": "#%%\n"
    }
   },
   "outputs": [],
   "source": [
    "minifiedSample.schema()"
   ]
  },
  {
   "cell_type": "code",
   "execution_count": null,
   "metadata": {
    "pycharm": {
     "name": "#%%\n"
    }
   },
   "outputs": [],
   "source": [
    "minifiedSample.writeJson(\"jetbrains.json\")"
   ]
  },
  {
   "cell_type": "markdown",
   "source": [
    "## Langara: Let's Try with google"
   ],
   "metadata": {
    "collapsed": false
   }
  },
  {
   "cell_type": "code",
   "execution_count": null,
   "outputs": [],
   "source": [
    "val ge = readDf(\"https://api.github.com/orgs/Google\")\n",
    "ge\n"
   ],
   "metadata": {
    "collapsed": false
   }
  },
  {
   "cell_type": "code",
   "execution_count": null,
   "outputs": [],
   "source": [
    "val ge1 = ge\n",
    "    .add(\"repos\") { readDf(repos_url) }\n",
    "    .add(\"members\") { readPaginatedEndpoint(\"${url}/public_members\") }\n",
    "ge1\n"
   ],
   "metadata": {
    "collapsed": false
   }
  },
  {
   "cell_type": "code",
   "execution_count": null,
   "outputs": [],
   "source": [
    "ge1.repos[0]"
   ],
   "metadata": {
    "collapsed": false
   }
  },
  {
   "cell_type": "markdown",
   "source": [
    "## TODO later: continue playing with github api; create some visualizations in kandy"
   ],
   "metadata": {
    "collapsed": false
   }
  }
 ],
 "metadata": {
  "kernelspec": {
   "display_name": "Kotlin",
   "language": "kotlin",
   "name": "kotlin"
  },
  "language_info": {
   "codemirror_mode": "text/x-kotlin",
   "file_extension": ".kt",
   "mimetype": "text/x-kotlin",
   "name": "kotlin",
   "nbconvert_exporter": "",
   "pygments_lexer": "kotlin",
   "version": "1.8.20-Beta"
  }
 },
 "nbformat": 4,
 "nbformat_minor": 4
}
