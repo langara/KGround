{
 "cells": [
  {
   "cell_type": "markdown",
   "source": [
    "### Przetestujmy formuły matematyczne w markdownie\n",
    "\n",
    "When $a \\ne 0$, there are two solutions to $(ax^2 + bx + c = 0)$ and they are\n",
    "$$ x = {-b \\pm \\sqrt{b^2-4ac} \\over 2a} $$"
   ],
   "metadata": {
    "collapsed": false
   }
  },
  {
   "cell_type": "code",
   "execution_count": 2,
   "outputs": [
    {
     "name": "stdout",
     "output_type": "stream",
     "text": [
      "start\n",
      "end\n"
     ]
    }
   ],
   "source": [
    "import pl.mareklangiewicz.kommand.*\n",
    "import pl.mareklangiewicz.kommand.coreutils.Ls\n",
    "import pl.mareklangiewicz.kommand.coreutils.Ls.Option.all\n",
    "import pl.mareklangiewicz.kommand.coreutils.Ls.Option.long\n",
    "import pl.mareklangiewicz.kommand.coreutils.ls\n",
    "import pl.mareklangiewicz.kommand.gnome.*\n",
    "import pl.mareklangiewicz.kommand.gnome.GnomeExt.Cmd.list\n",
    "\n",
    "println(\"start\")\n",
    "\n",
    "CliPlatform.SYS.start(gnometerm(bash(gnomeext(list), pause = true)))\n",
    "CliPlatform.SYS.start(gnometerm(bash(ls { -long; -all }, pause = true)))\n",
    "\n",
    "println(\"end\")\n",
    "\n",
    "val x = \"x\"\n"
   ],
   "metadata": {
    "collapsed": false,
    "ExecuteTime": {
     "end_time": "2023-05-15T16:44:52.125077941Z",
     "start_time": "2023-05-15T16:44:51.838806834Z"
    }
   }
  },
  {
   "cell_type": "code",
   "execution_count": 3,
   "outputs": [
    {
     "data": {
      "text/plain": "org.jetbrains.kotlinx.jupyter.codegen.RenderersProcessorImpl@24ab1c31"
     },
     "execution_count": 3,
     "metadata": {},
     "output_type": "execute_result"
    }
   ],
   "source": [
    "notebook.renderersProcessor"
   ],
   "metadata": {
    "collapsed": false,
    "ExecuteTime": {
     "end_time": "2023-05-15T16:44:55.028581627Z",
     "start_time": "2023-05-15T16:44:54.879317917Z"
    }
   }
  },
  {
   "cell_type": "code",
   "execution_count": 4,
   "outputs": [
    {
     "name": "stdout",
     "output_type": "stream",
     "text": [
      "bla2\n",
      "bla4\n",
      "bla6\n",
      "bla8\n",
      "bla10\n",
      "bla12\n",
      "bla14\n",
      "bla16\n",
      "bla18\n",
      "bla20\n"
     ]
    }
   ],
   "source": [
    "for (i in 1..10)\n",
    "    EXECUTE(\"println(\\\"bla${i*2}\\\")\")"
   ],
   "metadata": {
    "collapsed": false,
    "ExecuteTime": {
     "end_time": "2023-05-15T16:44:57.435697785Z",
     "start_time": "2023-05-15T16:44:56.582241195Z"
    }
   }
  },
  {
   "cell_type": "code",
   "execution_count": 5,
   "outputs": [
    {
     "name": "stdout",
     "output_type": "stream",
     "text": [
      "backup_elpassion_2020_07_10.tar.xz\n",
      "backup_small_2020_07_11.tgz\n",
      "bla.kts\n",
      "BTFL_backup_FLYWOO_20220401_225457.json\n",
      "BTFL_cli_FLYWOO_20220402_115703.txt\n",
      "hs_err_pid27357.log\n",
      "java_error_in_idea_.hprof\n",
      "java_error_in_studio_.hprof\n",
      "Modern\\ Educayshun-iKcWu0tsiZM.mkv\n",
      "Pfizer\\ Director\\ Assaults\\ James\\ O'Keefe\\ &\\ Veritas\\ Staff;\\ Destroys\\ iPad\\ Showing\\ Undercover\\ Recordings-u5n7RRKgDog.mp4\n",
      "pit-37-27-_v1-0e.pdf\n",
      "private_2023_03_13.tgz.gpg\n",
      "Who\\ Blew\\ Up\\ Nord\\ Stream\\ Pipelines\\ _\\ A\\ Mystery!-NSZyKYitC3M.mkv\n",
      "Zgon_Wojownika_nauczyc_sie_grac.mkv\n"
     ]
    }
   ],
   "source": [
    "import pl.mareklangiewicz.kommand.demos.*\n",
    "import pl.mareklangiewicz.kommand.*\n",
    "\n",
    "CliPlatform.SYS.LangaraREPL()"
   ],
   "metadata": {
    "collapsed": false,
    "ExecuteTime": {
     "end_time": "2023-05-15T16:44:58.387778074Z",
     "start_time": "2023-05-15T16:44:58.272437678Z"
    }
   }
  },
  {
   "cell_type": "code",
   "execution_count": 6,
   "outputs": [],
   "source": [
    "import pl.mareklangiewicz.kommand.CliPlatform.Companion.SYS\n",
    "import pl.mareklangiewicz.kommand.bash\n",
    "import pl.mareklangiewicz.kommand.gnome.startInGnomeTermIfUserConfirms\n",
    "import pl.mareklangiewicz.kommand.printlns\n",
    "import pl.mareklangiewicz.kommand.samples.Samples\n",
    "\n",
    "SYS.run {\n",
    "    val kmd = Samples.GitHub.help\n",
    "//    val kmd = Samples.GitHub.secretSetFakeSecretInAbcdK\n",
    "    startInGnomeTermIfUserConfirms(kmd)\n",
    "}\n"
   ],
   "metadata": {
    "collapsed": false,
    "ExecuteTime": {
     "end_time": "2023-05-15T16:45:01.617200473Z",
     "start_time": "2023-05-15T16:44:59.608806708Z"
    }
   }
  },
  {
   "cell_type": "code",
   "execution_count": 7,
   "outputs": [
    {
     "name": "stdout",
     "output_type": "stream",
     "text": [
      "                             movieId                                    title                              genres\n",
      "  0 9b30aff7943f44579e92c261f3adc193                    Women in Black (1997)          Fantasy|Suspenseful|Comedy\n",
      "  1 2a1ba1fc5caf492a80188e032995843e                   Bumblebee Movie (2007)        Comedy|Jazz|Family|Animation\n",
      "  2 f44ceb4771504342bb856d76c112d5a6 Magical School Boy and the Rock of Wi...            Fantasy|Growing up|Magic\n",
      "  3 43d02fb064514ff3bd30d1e3a7398357 Master of the Jewlery: The Company of...           Fantasy|Magic|Suspenseful\n",
      "  4 6aa0d26a483148998c250b9c80ddf550 Sun Conflicts: Part IV: A Novel Espai...                             Fantasy\n",
      "  5 eace16e59ce24eff90bf8924eb6a926c              The Outstanding Bulk (2008)            Fantasy|Superhero|Family\n",
      "  6 ae916bc4844a4bb7b42b70d9573d05cd                       In Automata (2014)                  Horror|Existential\n",
      "  7 c1f0a868aeb44c5ea8d154ec3ca295ac                    Interplanetary (2014)                   Sci-fi|Futuristic\n",
      "  8 9595b771f87f42a3b8dd07d91e7cb328                         Woods Run (1994)                        Family|Drama\n",
      "  9 aa9fc400e068443488b259ea0802a975                    Anthropod-Dude (2002) Superhero|Fantasy|Family|Growing up\n",
      " 10 22d20c2ba11d44cab83aceea39dc00bd                       The Chamber (2003)                        Comedy|Drama\n",
      " 11 8cf4d0c1bd7b41fab6af9d92c892141f       That Thing About an Iceberg (1997)        Drama|History|Family|Romance\n",
      " 12 c2f3e7588da84684a7d78d6bd8d8e1f4                          Vehicles (2006)                    Animation|Family\n",
      " 13 ce06175106af4105945f245161eac3c7                   Playthings Tale (1995)                    Animation|Family\n",
      " 14 ee28d7e69103485c83e10b8055ef15fb                       Metal Man 2 (2010)            Fantasy|Superhero|Family\n",
      " 15 c32bdeed466f4ec09de828bb4b6fc649 Surgeon Odd in the Omniverse of Crazy...     Fantasy|Superhero|Family|Horror\n",
      " 16 d4a325ab648a42c4a2d6f35dfabb387f          Bad Dream on Pine Street (1984)                              Horror\n",
      " 17 60ebe74947234ddcab49dea1a958faed                    The Shimmering (1980)                              Horror\n",
      " 18 f24327f2b05147b197ca34bf13ae3524 Krubit: Societal Teachings for Do Man...                              Comedy\n",
      " 19 2bb29b3a245e434fa80542e711fd2cee                  This is No Movie (1950)                  (no genres listed)\n",
      "\n"
     ]
    }
   ],
   "source": [
    "%use dataframe\n",
    "\n",
    "\n",
    "val df = DataFrame.readCSV(\"movies_temp.csv\")\n",
    "df.print()"
   ],
   "metadata": {
    "collapsed": false,
    "ExecuteTime": {
     "end_time": "2023-05-15T16:45:12.823006741Z",
     "start_time": "2023-05-15T16:45:02.654134428Z"
    }
   }
  },
  {
   "cell_type": "code",
   "execution_count": 8,
   "outputs": [
    {
     "data": {
      "text/plain": "Women in Black (1997)"
     },
     "execution_count": 8,
     "metadata": {},
     "output_type": "execute_result"
    }
   ],
   "source": [
    "import org.jetbrains.kotlinx.dataframe.api.column\n",
    "\n",
    "val title by column<String>()\n",
    "df[0][title]\n",
    "df[0].title\n"
   ],
   "metadata": {
    "collapsed": false,
    "ExecuteTime": {
     "end_time": "2023-05-15T16:45:16.099242520Z",
     "start_time": "2023-05-15T16:45:15.886332403Z"
    }
   }
  },
  {
   "cell_type": "code",
   "execution_count": 9,
   "outputs": [
    {
     "data": {
      "text/html": "            <iframe onload=\"o_resize_iframe_out_1()\" style=\"width:100%;\" class=\"result_container\" id=\"iframe_out_1\" frameBorder=\"0\" srcdoc=\"        &lt;html&gt;\n        &lt;head&gt;\n            &lt;style type=&quot;text&sol;css&quot;&gt;\n                :root {\n    --background: #fff;\n    --background-odd: #f5f5f5;\n    --background-hover: #d9edfd;\n    --header-text-color: #474747;\n    --text-color: #848484;\n    --text-color-dark: #000;\n    --text-color-medium: #737373;\n    --text-color-pale: #b3b3b3;\n    --inner-border-color: #aaa;\n    --bold-border-color: #000;\n    --link-color: #296eaa;\n    --link-color-pale: #296eaa;\n    --link-hover: #1a466c;\n}\n\n:root[theme=&quot;dark&quot;], :root [data-jp-theme-light=&quot;false&quot;], .dataframe_dark{\n    --background: #303030;\n    --background-odd: #3c3c3c;\n    --background-hover: #464646;\n    --header-text-color: #dddddd;\n    --text-color: #b3b3b3;\n    --text-color-dark: #dddddd;\n    --text-color-medium: #b2b2b2;\n    --text-color-pale: #737373;\n    --inner-border-color: #707070;\n    --bold-border-color: #777777;\n    --link-color: #008dc0;\n    --link-color-pale: #97e1fb;\n    --link-hover: #00688e;\n}\n\np.dataframe_description {\n    color: var(--text-color-dark);\n}\n\ntable.dataframe {\n    font-family: &quot;Helvetica Neue&quot;, Helvetica, Arial, sans-serif;\n    font-size: 12px;\n    background-color: var(--background);\n    color: var(--text-color-dark);\n    border: none;\n    border-collapse: collapse;\n}\n\ntable.dataframe th, td {\n    padding: 6px;\n    border: 1px solid transparent;\n    text-align: left;\n}\n\ntable.dataframe th {\n    background-color: var(--background);\n    color: var(--header-text-color);\n}\n\ntable.dataframe td {\n    vertical-align: top;\n}\n\ntable.dataframe th.bottomBorder {\n    border-bottom-color: var(--bold-border-color);\n}\n\ntable.dataframe tbody &gt; tr:nth-child(odd) {\n    background: var(--background-odd);\n}\n\ntable.dataframe tbody &gt; tr:nth-child(even) {\n    background: var(--background);\n}\n\ntable.dataframe tbody &gt; tr:hover {\n    background: var(--background-hover);\n}\n\ntable.dataframe a {\n    cursor: pointer;\n    color: var(--link-color);\n    text-decoration: none;\n}\n\ntable.dataframe tr:hover &gt; td a {\n    color: var(--link-color-pale);\n}\n\ntable.dataframe a:hover {\n    color: var(--link-hover);\n    text-decoration: underline;\n}\n\ntable.dataframe img {\n    max-width: fit-content;\n}\n\ntable.dataframe th.complex {\n    background-color: var(--background);\n    border: 1px solid var(--background);\n}\n\ntable.dataframe .leftBorder {\n    border-left-color: var(--inner-border-color);\n}\n\ntable.dataframe .rightBorder {\n    border-right-color: var(--inner-border-color);\n}\n\ntable.dataframe .rightAlign {\n    text-align: right;\n}\n\ntable.dataframe .expanderSvg {\n    width: 8px;\n    height: 8px;\n    margin-right: 3px;\n}\n\ntable.dataframe .expander {\n    display: flex;\n    align-items: center;\n}\n\n&sol;* formatting *&sol;\n\ntable.dataframe .null {\n    color: var(--text-color-pale);\n}\n\ntable.dataframe .structural {\n    color: var(--text-color-medium);\n    font-weight: bold;\n}\n\ntable.dataframe .dataFrameCaption {\n    font-weight: bold;\n}\n\ntable.dataframe .numbers {\n    color: var(--text-color-dark);\n}\n\ntable.dataframe td:hover .formatted .structural, .null {\n    color: var(--text-color-dark);\n}\n\ntable.dataframe tr:hover .formatted .structural, .null {\n    color: var(--text-color-dark);\n}\n\n\n\n\n:root {\n    --scroll-bg: #f5f5f5;\n    --scroll-fg: #b3b3b3;\n}\n:root[theme=&quot;dark&quot;], :root [data-jp-theme-light=&quot;false&quot;]{\n    --scroll-bg: #3c3c3c;\n    --scroll-fg: #97e1fb;\n}\nbody {\n    scrollbar-color: var(--scroll-fg) var(--scroll-bg);\n}\nbody::-webkit-scrollbar {\n    width: 10px; &sol;* Mostly for vertical scrollbars *&sol;\n    height: 10px; &sol;* Mostly for horizontal scrollbars *&sol;\n}\nbody::-webkit-scrollbar-thumb {\n    background-color: var(--scroll-fg);\n}\nbody::-webkit-scrollbar-track {\n    background-color: var(--scroll-bg);\n}\n            &lt;&sol;style&gt;\n        &lt;&sol;head&gt;\n        &lt;body&gt;\n            \n&lt;table class=&quot;dataframe&quot; id=&quot;df_100663296&quot;&gt;&lt;&sol;table&gt;\n\n&lt;p class=&quot;dataframe_description&quot;&gt;... showing only top 5 of 20 rows&lt;&sol;p&gt;&lt;p class=&quot;dataframe_description&quot;&gt;DataFrame [20 x 3]&lt;&sol;p&gt;\n\n        &lt;&sol;body&gt;\n        &lt;script&gt;\n            (function () {\n    window.DataFrame = window.DataFrame || new (function () {\n        this.addTable = function (df) {\n            let cols = df.cols;\n            for (let i = 0; i &lt; cols.length; i++) {\n                for (let c of cols[i].children) {\n                    cols[c].parent = i;\n                }\n            }\n            df.nrow = 0\n            for (let i = 0; i &lt; df.cols.length; i++) {\n                if (df.cols[i].values.length &gt; df.nrow) df.nrow = df.cols[i].values.length\n            }\n            if (df.id === df.rootId) {\n                df.expandedFrames = new Set()\n                df.childFrames = {}\n                const table = this.getTableElement(df.id)\n                table.df = df\n                for (let i = 0; i &lt; df.cols.length; i++) {\n                    let col = df.cols[i]\n                    if (col.parent === undefined &amp;&amp; col.children.length &gt; 0) col.expanded = true\n                }\n            } else {\n                const rootDf = this.getTableData(df.rootId)\n                rootDf.childFrames[df.id] = df\n            }\n        }\n\n        this.computeRenderData = function (df) {\n            let result = []\n            let pos = 0\n            for (let col = 0; col &lt; df.cols.length; col++) {\n                if (df.cols[col].parent === undefined)\n                    pos += this.computeRenderDataRec(df.cols, col, pos, 0, result, false, false)\n            }\n            for (let i = 0; i &lt; result.length; i++) {\n                let row = result[i]\n                for (let j = 0; j &lt; row.length; j++) {\n                    let cell = row[j]\n                    if (j === 0)\n                        cell.leftBd = false\n                    if (j &lt; row.length - 1) {\n                        let nextData = row[j + 1]\n                        if (nextData.leftBd) cell.rightBd = true\n                        else if (cell.rightBd) nextData.leftBd = true\n                    } else cell.rightBd = false\n                }\n            }\n            return result\n        }\n\n        this.computeRenderDataRec = function (cols, colId, pos, depth, result, leftBorder, rightBorder) {\n            if (result.length === depth) {\n                const array = [];\n                if (pos &gt; 0) {\n                    let j = 0\n                    for (let i = 0; j &lt; pos; i++) {\n                        let c = result[depth - 1][i]\n                        j += c.span\n                        let copy = Object.assign({empty: true}, c)\n                        array.push(copy)\n                    }\n                }\n                result.push(array)\n            }\n            const col = cols[colId];\n            let size = 0;\n            if (col.expanded) {\n                let childPos = pos\n                for (let i = 0; i &lt; col.children.length; i++) {\n                    let child = col.children[i]\n                    let childLeft = i === 0 &amp;&amp; (col.children.length &gt; 1 || leftBorder)\n                    let childRight = i === col.children.length - 1 &amp;&amp; (col.children.length &gt; 1 || rightBorder)\n                    let childSize = this.computeRenderDataRec(cols, child, childPos, depth + 1, result, childLeft, childRight)\n                    childPos += childSize\n                    size += childSize\n                }\n            } else {\n                for (let i = depth + 1; i &lt; result.length; i++)\n                    result[i].push({id: colId, span: 1, leftBd: leftBorder, rightBd: rightBorder, empty: true})\n                size = 1\n            }\n            let left = leftBorder\n            let right = rightBorder\n            if (size &gt; 1) {\n                left = true\n                right = true\n            }\n            result[depth].push({id: colId, span: size, leftBd: left, rightBd: right})\n            return size\n        }\n\n        this.getTableElement = function (id) {\n            return document.getElementById(&quot;df_&quot; + id)\n        }\n\n        this.getTableData = function (id) {\n            return this.getTableElement(id).df\n        }\n\n        this.createExpander = function (isExpanded) {\n            const svgNs = &quot;http:&sol;&sol;www.w3.org&sol;2000&sol;svg&quot;\n            let svg = document.createElementNS(svgNs, &quot;svg&quot;)\n            svg.classList.add(&quot;expanderSvg&quot;)\n            let path = document.createElementNS(svgNs, &quot;path&quot;)\n            if (isExpanded) {\n                svg.setAttribute(&quot;viewBox&quot;, &quot;0 -2 8 8&quot;)\n                path.setAttribute(&quot;d&quot;, &quot;M1 0 l-1 1 4 4 4 -4 -1 -1 -3 3Z&quot;)\n            } else {\n                svg.setAttribute(&quot;viewBox&quot;, &quot;-2 0 8 8&quot;)\n                path.setAttribute(&quot;d&quot;, &quot;M1 0 l-1 1 3 3 -3 3 1 1 4 -4Z&quot;)\n            }\n            path.setAttribute(&quot;fill&quot;, &quot;currentColor&quot;)\n            svg.appendChild(path)\n            return svg\n        }\n\n        this.renderTable = function (id) {\n\n            let table = this.getTableElement(id)\n\n            if (table === null) return\n\n            table.innerHTML = &quot;&quot;\n\n            let df = table.df\n            let rootDf = df.rootId === df.id ? df : this.getTableData(df.rootId)\n\n            &sol;&sol; header\n            let header = document.createElement(&quot;thead&quot;)\n            table.appendChild(header)\n\n            let renderData = this.computeRenderData(df)\n            for (let j = 0; j &lt; renderData.length; j++) {\n                let rowData = renderData[j]\n                let tr = document.createElement(&quot;tr&quot;);\n                let isLastRow = j === renderData.length - 1\n                header.appendChild(tr);\n                for (let i = 0; i &lt; rowData.length; i++) {\n                    let cell = rowData[i]\n                    let th = document.createElement(&quot;th&quot;);\n                    th.setAttribute(&quot;colspan&quot;, cell.span)\n                    let colId = cell.id\n                    let col = df.cols[colId];\n                    if (!cell.empty) {\n                        if (col.children.length === 0) {\n                            th.innerHTML = col.name\n                        } else {\n                            let link = document.createElement(&quot;a&quot;)\n                            link.className = &quot;expander&quot;\n                            let that = this\n                            link.onclick = function () {\n                                col.expanded = !col.expanded\n                                that.renderTable(id)\n                            }\n                            link.appendChild(this.createExpander(col.expanded))\n                            link.innerHTML += col.name\n                            th.appendChild(link)\n                        }\n                    }\n                    let classes = (cell.leftBd ? &quot; leftBorder&quot; : &quot;&quot;) + (cell.rightBd ? &quot; rightBorder&quot; : &quot;&quot;)\n                    if (col.rightAlign)\n                        classes += &quot; rightAlign&quot;\n                    if (isLastRow)\n                        classes += &quot; bottomBorder&quot;\n                    if (classes.length &gt; 0)\n                        th.setAttribute(&quot;class&quot;, classes)\n                    tr.appendChild(th)\n                }\n            }\n\n            &sol;&sol; body\n            let body = document.createElement(&quot;tbody&quot;)\n            table.appendChild(body)\n\n            let columns = renderData.pop()\n            for (let row = 0; row &lt; df.nrow; row++) {\n                let tr = document.createElement(&quot;tr&quot;);\n                body.appendChild(tr)\n                for (let i = 0; i &lt; columns.length; i++) {\n                    let cell = columns[i]\n                    let td = document.createElement(&quot;td&quot;);\n                    let colId = cell.id\n                    let col = df.cols[colId]\n                    let classes = (cell.leftBd ? &quot; leftBorder&quot; : &quot;&quot;) + (cell.rightBd ? &quot; rightBorder&quot; : &quot;&quot;)\n                    if (col.rightAlign)\n                        classes += &quot; rightAlign&quot;\n                    if (classes.length &gt; 0)\n                        td.setAttribute(&quot;class&quot;, classes)\n                    tr.appendChild(td)\n                    let value = col.values[row]\n                    if (value.frameId !== undefined) {\n                        let frameId = value.frameId\n                        let expanded = rootDf.expandedFrames.has(frameId)\n                        let link = document.createElement(&quot;a&quot;)\n                        link.className = &quot;expander&quot;\n                        let that = this\n                        link.onclick = function () {\n                            if (rootDf.expandedFrames.has(frameId))\n                                rootDf.expandedFrames.delete(frameId)\n                            else rootDf.expandedFrames.add(frameId)\n                            that.renderTable(id)\n                        }\n                        link.appendChild(this.createExpander(expanded))\n                        link.innerHTML += value.value\n                        if (expanded) {\n                            td.appendChild(link)\n                            td.appendChild(document.createElement(&quot;p&quot;))\n                            const childTable = document.createElement(&quot;table&quot;)\n                            childTable.className = &quot;dataframe&quot;\n                            childTable.id = &quot;df_&quot; + frameId\n                            let childDf = rootDf.childFrames[frameId]\n                            childTable.df = childDf\n                            td.appendChild(childTable)\n                            this.renderTable(frameId)\n                            if (childDf.nrow !== childDf.totalRows) {\n                                const footer = document.createElement(&quot;p&quot;)\n                                footer.innerText = `... showing only top ${childDf.nrow} of ${childDf.totalRows} rows`\n                                td.appendChild(footer)\n                            }\n                        } else {\n                            td.appendChild(link)\n                        }\n                    } else if (value.style !== undefined) {\n                        td.innerHTML = value.value\n                        td.setAttribute(&quot;style&quot;, value.style)\n                    } else td.innerHTML = value\n                    this.nodeScriptReplace(td)\n                }\n            }\n        }\n\n        this.nodeScriptReplace = function (node) {\n            if (this.nodeScriptIs(node) === true) {\n                node.parentNode.replaceChild(this.nodeScriptClone(node), node);\n            } else {\n                let i = -1, children = node.childNodes;\n                while (++i &lt; children.length) {\n                    this.nodeScriptReplace(children[i]);\n                }\n            }\n\n            return node;\n        }\n\n        this.nodeScriptClone = function (node) {\n            let script = document.createElement(&quot;script&quot;);\n            script.text = node.innerHTML;\n\n            let i = -1, attrs = node.attributes, attr;\n            while (++i &lt; attrs.length) {\n                script.setAttribute((attr = attrs[i]).name, attr.value);\n            }\n            return script;\n        }\n\n        this.nodeScriptIs = function (node) {\n            return node.tagName === 'SCRIPT';\n        }\n    })()\n\n    window.call_DataFrame = function (f) {\n        return f();\n    };\n\n    let funQueue = window[&quot;kotlinQueues&quot;] &amp;&amp; window[&quot;kotlinQueues&quot;][&quot;DataFrame&quot;];\n    if (funQueue) {\n        funQueue.forEach(function (f) {\n            f();\n        });\n        funQueue = [];\n    }\n})()\n\n&sol;*&lt;!--*&sol;\ncall_DataFrame(function() { DataFrame.addTable({ cols: [{ name: &quot;&lt;span title=&bsol;&quot;movieId: String&bsol;&quot;&gt;movieId&lt;&sol;span&gt;&quot;, children: [], rightAlign: false, values: [&quot;9b30aff7943f44579e92c261f3adc193&quot;,&quot;2a1ba1fc5caf492a80188e032995843e&quot;,&quot;f44ceb4771504342bb856d76c112d5a6&quot;,&quot;43d02fb064514ff3bd30d1e3a7398357&quot;,&quot;6aa0d26a483148998c250b9c80ddf550&quot;] }, \n{ name: &quot;&lt;span title=&bsol;&quot;title: String&bsol;&quot;&gt;title&lt;&sol;span&gt;&quot;, children: [], rightAlign: false, values: [&quot;Women in Black (1997)&quot;,&quot;Bumblebee Movie (2007)&quot;,&quot;&lt;span class=&bsol;&quot;formatted&bsol;&quot; title=&bsol;&quot;Magical School Boy and the Rock of Wise Men (2001)&bsol;&quot;&gt;Magical School Boy and the Rock of Wi&lt;span class=&bsol;&quot;structural&bsol;&quot;&gt;...&lt;&sol;span&gt;&lt;&sol;span&gt;&quot;,&quot;&lt;span class=&bsol;&quot;formatted&bsol;&quot; title=&bsol;&quot;Master of the Jewlery: The Company of the Jewel (2001)&bsol;&quot;&gt;Master of the Jewlery: The Company of&lt;span class=&bsol;&quot;structural&bsol;&quot;&gt;...&lt;&sol;span&gt;&lt;&sol;span&gt;&quot;,&quot;&lt;span class=&bsol;&quot;formatted&bsol;&quot; title=&bsol;&quot;Sun Conflicts: Part IV: A Novel Espair (1977)&bsol;&quot;&gt;Sun Conflicts: Part IV: A Novel Espai&lt;span class=&bsol;&quot;structural&bsol;&quot;&gt;...&lt;&sol;span&gt;&lt;&sol;span&gt;&quot;] }, \n{ name: &quot;&lt;span title=&bsol;&quot;genres: String&bsol;&quot;&gt;genres&lt;&sol;span&gt;&quot;, children: [], rightAlign: false, values: [&quot;Fantasy|Suspenseful|Comedy&quot;,&quot;Comedy|Jazz|Family|Animation&quot;,&quot;Fantasy|Growing up|Magic&quot;,&quot;Fantasy|Magic|Suspenseful&quot;,&quot;Fantasy&quot;] }, \n], id: 100663296, rootId: 100663296, totalRows: 20 } ) });\n&sol;*--&gt;*&sol;\n\ncall_DataFrame(function() { DataFrame.renderTable(100663296) });\n\n\n\n        &lt;&sol;script&gt;\n        &lt;&sol;html&gt;\"></iframe>\n            <script>\n                function o_resize_iframe_out_1() {\n                    let elem = document.getElementById(\"iframe_out_1\");\n                    resize_iframe_out_1(elem);\n                    setInterval(resize_iframe_out_1, 5000, elem);\n                }\n                function resize_iframe_out_1(el) {\n                    let h = el.contentWindow.document.body.scrollHeight;\n                    el.height = h === 0 ? 0 : h + 41;\n                }\n            </script>"
     },
     "execution_count": 9,
     "metadata": {},
     "output_type": "execute_result"
    }
   ],
   "source": [
    "import org.jetbrains.kotlinx.dataframe.io.toHTML\n",
    "\n",
    "df.toHTML(DisplayConfiguration(rowsLimit = 5))"
   ],
   "metadata": {
    "collapsed": false,
    "ExecuteTime": {
     "end_time": "2023-05-15T16:45:18.736104341Z",
     "start_time": "2023-05-15T16:45:18.617591763Z"
    }
   }
  }
 ],
 "metadata": {
  "kernelspec": {
   "display_name": "Kotlin",
   "language": "kotlin",
   "name": "kotlin"
  },
  "language_info": {
   "name": "kotlin",
   "version": "1.8.20",
   "mimetype": "text/x-kotlin",
   "file_extension": ".kt",
   "pygments_lexer": "kotlin",
   "codemirror_mode": "text/x-kotlin",
   "nbconvert_exporter": ""
  },
  "ktnbPluginMetadata": {
   "isBuildProject": true
  }
 },
 "nbformat": 4,
 "nbformat_minor": 0
}
