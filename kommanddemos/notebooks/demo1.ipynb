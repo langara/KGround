{
 "cells": [
  {
   "cell_type": "code",
   "execution_count": 4,
   "outputs": [],
   "source": [
    "USE {\n",
    "\n",
    "}\n"
   ],
   "metadata": {
    "collapsed": false,
    "ExecuteTime": {
     "end_time": "2023-05-08T16:37:09.166196692Z",
     "start_time": "2023-05-08T16:37:09.042713670Z"
    }
   }
  },
  {
   "cell_type": "code",
   "execution_count": 5,
   "outputs": [
    {
     "name": "stdout",
     "output_type": "stream",
     "text": [
      "start\n",
      "end\n"
     ]
    }
   ],
   "source": [
    "import pl.mareklangiewicz.kommand.*\n",
    "import pl.mareklangiewicz.kommand.coreutils.Ls\n",
    "import pl.mareklangiewicz.kommand.coreutils.Ls.Option.all\n",
    "import pl.mareklangiewicz.kommand.coreutils.Ls.Option.long\n",
    "import pl.mareklangiewicz.kommand.coreutils.ls\n",
    "import pl.mareklangiewicz.kommand.gnome.*\n",
    "import pl.mareklangiewicz.kommand.gnome.GnomeExt.Cmd.list\n",
    "\n",
    "println(\"start\")\n",
    "\n",
    "CliPlatform.SYS.start(gnometerm(bash(gnomeext(list), pause = true)))\n",
    "CliPlatform.SYS.start(gnometerm(bash(ls { -long; -all }, pause = true)))\n",
    "\n",
    "println(\"end\")\n"
   ],
   "metadata": {
    "collapsed": false,
    "ExecuteTime": {
     "end_time": "2023-05-08T16:37:11.035206613Z",
     "start_time": "2023-05-08T16:37:10.665773531Z"
    }
   }
  },
  {
   "cell_type": "code",
   "execution_count": 5,
   "outputs": [
    {
     "name": "stdout",
     "output_type": "stream",
     "text": [
      "bla2\n",
      "bla4\n",
      "bla6\n",
      "bla8\n",
      "bla10\n",
      "bla12\n",
      "bla14\n",
      "bla16\n",
      "bla18\n",
      "bla20\n"
     ]
    }
   ],
   "source": [
    "for (i in 1..10)\n",
    "    EXECUTE(\"println(\\\"bla${i*2}\\\")\")"
   ],
   "metadata": {
    "collapsed": false,
    "ExecuteTime": {
     "end_time": "2023-04-29T08:46:59.833790142Z",
     "start_time": "2023-04-29T08:46:59.240086148Z"
    }
   }
  },
  {
   "cell_type": "code",
   "execution_count": null,
   "outputs": [],
   "source": [
    "\n",
    "import pl.mareklangiewicz.kommand.demos.*\n",
    "import pl.mareklangiewicz.kommand.*\n",
    "\n",
    "Platform.SYS.LangaraREPL()"
   ],
   "metadata": {
    "collapsed": false
   }
  },
  {
   "cell_type": "code",
   "execution_count": null,
   "outputs": [],
   "source": [
    "Platform.SYS.LangaraREPL()\n"
   ],
   "metadata": {
    "collapsed": false
   }
  },
  {
   "cell_type": "code",
   "execution_count": 2,
   "outputs": [
    {
     "data": {
      "text/plain": "Current classpath (55 paths):\n/home/marek/.cache/JetBrains/IntelliJIdea2023.1/kotlin-jupyter/kernelProcess/lib/httpcore5-5.2.jar\n/home/marek/.cache/JetBrains/IntelliJIdea2023.1/kotlin-jupyter/kernelProcess/lib/kotlin-stdlib-jdk8-1.8.0.jar\n/home/marek/.cache/JetBrains/IntelliJIdea2023.1/kotlin-jupyter/kernelProcess/lib/kotlin-jupyter-lib-0.11.0-360.jar\n/home/marek/.cache/JetBrains/IntelliJIdea2023.1/kotlin-jupyter/kernelProcess/lib/http4k-client-apache-4.34.3.0.jar\n/home/marek/.cache/JetBrains/IntelliJIdea2023.1/kotlin-jupyter/kernelProcess/lib/kotlin-jupyter-common-dependencies-0.11.0-360.jar\n/home/marek/.cache/JetBrains/IntelliJIdea2023.1/kotlin-jupyter/kernelProcess/lib/kotlin-stdlib-common-1.8.20.jar\n/home/marek/.cache/JetBrains/IntelliJIdea2023.1/kotlin-jupyter/kernelProcess/lib/kotlin-jupyter-api-0.11.0-360.jar\n/home/marek/.cache/JetBrains/IntelliJIdea2023.1/kotlin-jupyter/kernelProcess/lib/kotlin-stdlib-jdk7-1.8.0.jar\n/home/marek/.cache/JetBrains/IntelliJIdea2023.1/kotlin-jupyter/kernelProcess/lib/kotlin-reflect-1.8.20.jar\n/home/marek/.cache/JetBrains/IntelliJIdea2023.1/kotlin-jupyter/kernelProcess/lib/httpclient5-5.2.1.jar\n/home/marek/.cache/JetBrains/IntelliJIdea2023.1/kotlin-jupyter/kernelProcess/lib/httpcore5-h2-5.2.jar\n/home/marek/.cache/JetBrains/IntelliJIdea2023.1/kotlin-jupyter/kernelProcess/lib/http4k-core-4.34.3.0.jar\n/home/marek/.cache/JetBrains/IntelliJIdea2023.1/kotlin-jupyter/kernelProcess/lib/annotations-13.0.jar\n/home/marek/.cache/JetBrains/IntelliJIdea2023.1/kotlin-jupyter/kernelProcess/lib/kotlin-script-runtime-1.8.0.jar\n/home/marek/.cache/JetBrains/IntelliJIdea2023.1/kotlin-jupyter/kernelProcess/lib/kotlin-stdlib-1.8.20.jar\n/home/marek/.cache/JetBrains/IntelliJIdea2023.1/kotlin-jupyter/kernelProcess/lib/kotlinx-serialization-json-jvm-1.4.1.jar\n/home/marek/.cache/JetBrains/IntelliJIdea2023.1/kotlin-jupyter/kernelProcess/lib/kotlinx-serialization-core-jvm-1.4.1.jar\n/home/marek/.cache/JetBrains/IntelliJIdea2023.1/kotlin-jupyter/kernelProcess/lib/slf4j-api-1.7.36.jar\n/home/marek/code/kotlin/KommandLine/kommandline/build/classes/kotlin/js/test\n/home/marek/code/kotlin/KommandLine/kommanddemos/build/classes/kotlin/test\n/home/marek/code/kotlin/KommandLine/kommandline/build/classes/kotlin/jvm/test\n/home/marek/code/kotlin/KommandLine/kommanddemos/build/classes/kotlin/main\n/home/marek/code/kotlin/KommandLine/kommandline/build/classes/kotlin/js/main\n/home/marek/code/kotlin/KommandLine/kommandline/build/classes/kotlin/jvm/main\n/home/marek/.gradle/caches/modules-2/files-2.1/org.apiguardian/apiguardian-api/1.1.2/a231e0d844d2721b0fa1b238006d15c6ded6842a/apiguardian-api-1.1.2.jar\n/home/marek/.m2/repository/org/jetbrains/kotlin/kotlin-stdlib-jdk8/1.8.20/kotlin-stdlib-jdk8-1.8.20.jar\n/home/marek/.gradle/caches/modules-2/files-2.1/org.jetbrains.kotlin/kotlin-stdlib-common/1.8.20/5eddaaf234c8c49d03eebeb6a14feb7f90faca71/kotlin-stdlib-common-1.8.20.jar\n/home/marek/.m2/repository/org/jetbrains/annotations/13.0/annotations-13.0.jar\n/home/marek/.gradle/caches/modules-2/files-2.1/org.jetbrains.kotlinx/kotlinx-coroutines-core-jvm/1.6.4/2c997cd1c0ef33f3e751d3831929aeff1390cb30/kotlinx-coroutines-core-jvm-1.6.4.jar\n/home/marek/.gradle/caches/modules-2/files-2.1/org.junit.platform/junit-platform-engine/1.9.3/8616734a190f8d307376aeb7353dba0a2c037a09/junit-platform-engine-1.9.3.jar\n/home/marek/.gradle/caches/modules-2/files-2.1/org.junit.jupiter/junit-jupiter-engine/5.9.3/355322b03bf39306a183162cd06626c206f0286b/junit-jupiter-engine-5.9.3.jar\n/home/marek/.gradle/caches/modules-2/files-2.1/org.jetbrains.kotlin/kotlin-test-common/1.8.20/7b59752f7bd3915a539ee3b8d823a9ce934d278d/kotlin-test-common-1.8.20.jar\n/home/marek/.m2/repository/org/jetbrains/kotlin/kotlin-stdlib/1.8.20/kotlin-stdlib-1.8.20.jar\n/home/marek/.gradle/caches/modules-2/files-2.1/org.jetbrains.kotlinx/atomicfu-js/0.17.3/5fd992f78532945e29a1c54279eafffe2a0c95fe/atomicfu-jsir-0.17.3.klib\n/home/marek/.gradle/caches/modules-2/files-2.1/org.jetbrains.kotlin/kotlin-test-junit5/1.8.20/e547e8426d8e348717934db60d9ca4917080c83a/kotlin-test-junit5-1.8.20.jar\n/home/marek/.m2/repository/pl/mareklangiewicz/uspekx-jvm/0.0.25/uspekx-jvm-0.0.25.jar\n/home/marek/.m2/repository/pl/mareklangiewicz/uspek-jvm/0.0.25/uspek-jvm-0.0.25.jar\n/home/marek/code/kotlin/KommandLine/.gradle/kotlin/kotlinTransformedMetadataLibraries/pl.mareklangiewicz-upue-0.0.12-commonMain-0vG47w.klib\n/home/marek/.m2/repository/pl/mareklangiewicz/uspekx-js/0.0.25/uspekx-js-0.0.25.klib\n/home/marek/.gradle/caches/modules-2/files-2.1/pl.mareklangiewicz/upue-js/0.0.12/d46c4062e5cd19e5c7f4309eeb27e6dbcca717cc/upue-js-0.0.12.klib\n/home/marek/.gradle/caches/modules-2/files-2.1/org.jetbrains.kotlin/atomicfu/1.6.21/f486917a9c89e5c7d5d08009d58ad810a57a7011/atomicfu-1.6.21.jar\n/home/marek/.gradle/caches/modules-2/files-2.1/org.jetbrains.kotlin/kotlin-stdlib-js/1.8.20/a107ac66653b98eb0d70f6b328e08bd86dbe4f57/kotlin-stdlib-js-1.8.20.jar\n/home/marek/.m2/repository/org/jetbrains/kotlin/kotlin-stdlib-jdk7/1.8.20/kotlin-stdlib-jdk7-1.8.20.jar\n/home/marek/.gradle/caches/modules-2/files-2.1/org.junit.jupiter/junit-jupiter-api/5.9.3/815818ad6ffcc8d320d8fbdf3d748c753cf83201/junit-jupiter-api-5.9.3.jar\n/home/marek/code/kotlin/KommandLine/.gradle/kotlin/kotlinTransformedMetadataLibraries/org.jetbrains.kotlinx-kotlinx-coroutines-core-1.6.4-commonMain-fLwzjw.klib\n/home/marek/.m2/repository/org/opentest4j/opentest4j/1.2.0/opentest4j-1.2.0.jar\n/home/marek/.gradle/caches/modules-2/files-2.1/org.junit.platform/junit-platform-commons/1.9.3/36b2e26a90c41603be7f0094bee80e3f8a2cd4d4/junit-platform-commons-1.9.3.jar\n/home/marek/.gradle/caches/modules-2/files-2.1/org.jetbrains.kotlin/kotlin-test-js/1.8.20/753834497ccd03e084461e81432a89307911cecd/kotlin-test-js-1.8.20.jar\n/home/marek/.gradle/caches/modules-2/files-2.1/org.jetbrains.kotlin/kotlin-test-annotations-common/1.8.20/fea2342c791ddb660743176fc8f72e172b315e0e/kotlin-test-annotations-common-1.8.20.jar\n/home/marek/.gradle/caches/modules-2/files-2.1/org.jetbrains.kotlinx/kotlinx-coroutines-core-js/1.6.4/791d62c16e6fad7cc9b1e6fafe88a3d454744d99/kotlinx-coroutines-core-jsir-1.6.4.klib\n/home/marek/.gradle/caches/modules-2/files-2.1/org.jetbrains.kotlin/kotlin-test/1.8.20/b38aa646a8abfc337db6634fb4848d481a8376e8/kotlin-test-1.8.20.jar\n/home/marek/code/kotlin/KommandLine/.gradle/kotlin/kotlinTransformedMetadataLibraries/pl.mareklangiewicz-uspek-0.0.25-commonMain-HqWXwA.klib\n/home/marek/.gradle/caches/modules-2/files-2.1/pl.mareklangiewicz/upue-jvm/0.0.12/5af2b3e8708b19d5f6cc3b63037e534f541f001b/upue-jvm-0.0.12.jar\n/home/marek/.m2/repository/pl/mareklangiewicz/uspekx-junit5-jvm/0.0.25/uspekx-junit5-jvm-0.0.25.jar\n/home/marek/.m2/repository/pl/mareklangiewicz/uspek-js/0.0.25/uspek-js-0.0.25.klib"
     },
     "execution_count": 2,
     "metadata": {},
     "output_type": "execute_result"
    }
   ],
   "source": [
    ":classpath"
   ],
   "metadata": {
    "collapsed": false,
    "ExecuteTime": {
     "end_time": "2023-05-08T09:12:49.803256491Z",
     "start_time": "2023-05-08T09:12:49.769082117Z"
    }
   }
  },
  {
   "cell_type": "code",
   "execution_count": null,
   "outputs": [],
   "source": [],
   "metadata": {
    "collapsed": false
   }
  }
 ],
 "metadata": {
  "kernelspec": {
   "display_name": "Kotlin",
   "language": "kotlin",
   "name": "kotlin"
  },
  "language_info": {
   "name": "kotlin",
   "version": "1.8.20",
   "mimetype": "text/x-kotlin",
   "file_extension": ".kt",
   "pygments_lexer": "kotlin",
   "codemirror_mode": "text/x-kotlin",
   "nbconvert_exporter": ""
  },
  "ktnbPluginMetadata": {
   "isBuildProject": true
  }
 },
 "nbformat": 4,
 "nbformat_minor": 0
}
