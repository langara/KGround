{
 "cells": [
  {
   "cell_type": "code",
   "execution_count": 2,
   "outputs": [
    {
     "name": "stderr",
     "output_type": "stream",
     "text": [
      "Line_2.jupyter.kts (1:2 - 3) Expecting an element\n",
      "Line_2.jupyter.kts (1:3 - 4) Expecting an element\n",
      "Line_2.jupyter.kts (1:4 - 5) Expecting an element"
     ]
    }
   ],
   "source": [
    "USE {\n",
    "\n",
    "}\n"
   ],
   "metadata": {
    "collapsed": false,
    "ExecuteTime": {
     "end_time": "2023-04-29T08:45:22.654676717Z",
     "start_time": "2023-04-29T08:45:22.602662754Z"
    }
   }
  },
  {
   "cell_type": "code",
   "execution_count": 1,
   "outputs": [
    {
     "name": "stdout",
     "output_type": "stream",
     "text": [
      "start\n",
      "end\n"
     ]
    }
   ],
   "source": [
    "\n",
    "import pl.mareklangiewicz.kommand.*\n",
    "import pl.mareklangiewicz.kommand.coreutils.Ls\n",
    "import pl.mareklangiewicz.kommand.coreutils.Ls.Option.all\n",
    "import pl.mareklangiewicz.kommand.coreutils.Ls.Option.long\n",
    "import pl.mareklangiewicz.kommand.coreutils.ls\n",
    "import pl.mareklangiewicz.kommand.gnome.*\n",
    "import pl.mareklangiewicz.kommand.gnome.GnomeExt.Cmd.list\n",
    "\n",
    "println(\"start\")\n",
    "\n",
    "Platform.SYS.start(gnometerm(bash(gnomeext(list), pause = true)))\n",
    "Platform.SYS.start(gnometerm(bash(ls { -long; -all }, pause = true)))\n",
    "\n",
    "println(\"end\")\n"
   ],
   "metadata": {
    "collapsed": false,
    "ExecuteTime": {
     "end_time": "2023-05-05T17:00:20.464610430Z",
     "start_time": "2023-05-05T17:00:19.677185268Z"
    }
   }
  },
  {
   "cell_type": "code",
   "execution_count": 5,
   "outputs": [
    {
     "name": "stdout",
     "output_type": "stream",
     "text": [
      "bla2\n",
      "bla4\n",
      "bla6\n",
      "bla8\n",
      "bla10\n",
      "bla12\n",
      "bla14\n",
      "bla16\n",
      "bla18\n",
      "bla20\n"
     ]
    }
   ],
   "source": [
    "for (i in 1..10)\n",
    "    EXECUTE(\"println(\\\"bla${i*2}\\\")\")"
   ],
   "metadata": {
    "collapsed": false,
    "ExecuteTime": {
     "end_time": "2023-04-29T08:46:59.833790142Z",
     "start_time": "2023-04-29T08:46:59.240086148Z"
    }
   }
  },
  {
   "cell_type": "code",
   "execution_count": null,
   "outputs": [],
   "source": [
    "\n",
    "import pl.mareklangiewicz.kommand.demos.*\n",
    "import pl.mareklangiewicz.kommand.*\n",
    "\n",
    "Platform.SYS.LangaraREPL()"
   ],
   "metadata": {
    "collapsed": false
   }
  },
  {
   "cell_type": "code",
   "execution_count": null,
   "outputs": [],
   "source": [
    "Platform.SYS.LangaraREPL()\n"
   ],
   "metadata": {
    "collapsed": false
   }
  },
  {
   "cell_type": "code",
   "execution_count": null,
   "outputs": [],
   "source": [],
   "metadata": {
    "collapsed": false
   }
  }
 ],
 "metadata": {
  "kernelspec": {
   "display_name": "Kotlin",
   "language": "kotlin",
   "name": "kotlin"
  },
  "language_info": {
   "name": "kotlin",
   "version": "1.8.20",
   "mimetype": "text/x-kotlin",
   "file_extension": ".kt",
   "pygments_lexer": "kotlin",
   "codemirror_mode": "text/x-kotlin",
   "nbconvert_exporter": ""
  },
  "ktnbPluginMetadata": {
   "isBuildProject": true
  }
 },
 "nbformat": 4,
 "nbformat_minor": 0
}
