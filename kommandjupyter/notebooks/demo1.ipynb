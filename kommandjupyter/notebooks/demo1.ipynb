{
 "cells": [
  {
   "cell_type": "code",
   "source": [
    "@file:OptIn(DelicateApi::class, NotPortableApi::class)\n",
    "\n",
    "%use coroutines\n",
    "\n",
    "import kotlinx.coroutines.flow.*\n",
    "import pl.mareklangiewicz.kommand.*\n",
    "import pl.mareklangiewicz.kommand.core.*\n",
    "import kotlin.time.*\n",
    "\n",
    "// TODO NOW: go through this whole notebook again (commented versions too) after refactor; also test input/output flows (like slow find output)\n",
    "// TODO NOW: analyze ProcessBuilder.startPipeline and understand assumptions/invariants and make sure my \"pipelines\" with line flows are correct.\n",
    "//    also reproduce example from ProcessBuilder.startPipeline javadoc using my stuff"
   ],
   "metadata": {
    "collapsed": false,
    "jupyter": {
     "is_executing": true
    }
   },
   "outputs": [],
   "execution_count": null
  },
  {
   "cell_type": "code",
   "source": [
    "@file:OptIn(DelicateApi::class, NotPortableApi::class)\n",
    "\n",
    "import pl.mareklangiewicz.kommand.gnome.*\n",
    "import pl.mareklangiewicz.kommand.core.LsOpt.*\n",
    "import pl.mareklangiewicz.kommand.shell.*\n",
    "import pl.mareklangiewicz.kommand.term.*\n",
    "\n",
    "// termGnome(bash(gnomeext(GnomeExt.Cmd.List), pause = true)).axb()\n",
    "// termKitty(gnomeext(GnomeExt.Cmd.List), hold = true).axb()\n",
    "termKitty(ls { -LongFormat; -All }, hold = true).axb()"
   ],
   "metadata": {
    "collapsed": false,
    "ExecuteTime": {
     "end_time": "2024-07-29T11:38:06.947805397Z",
     "start_time": "2024-07-29T11:38:06.647301559Z"
    }
   },
   "outputs": [
    {
     "data": {
      "text/plain": [
       "[]"
      ]
     },
     "execution_count": 29,
     "metadata": {},
     "output_type": "execute_result"
    }
   ],
   "execution_count": 29
  },
  {
   "cell_type": "code",
   "source": [
    "import pl.mareklangiewicz.kground.*\n",
    "import pl.mareklangiewicz.kommand.core.LsOpt.*\n",
    "import pl.mareklangiewicz.upue.*\n",
    "\n",
    "ls { -LongFormat; -All }.axb {\n",
    "    println(\"out line: $it\")\n",
    "}\n"
   ],
   "metadata": {
    "collapsed": false,
    "ExecuteTime": {
     "end_time": "2024-07-29T11:38:45.563525487Z",
     "start_time": "2024-07-29T11:38:45.047460456Z"
    }
   },
   "outputs": [
    {
     "name": "stdout",
     "output_type": "stream",
     "text": [
      "out line: total 36\n",
      "out line: drwxrwxr-x 2 marek marek 4096 lip 29 13:38 .\n",
      "out line: drwxrwxr-x 5 marek marek 4096 lip 29 12:38 ..\n",
      "out line: -rw-rw-r-- 1 marek marek 8140 lip 29 13:38 demo1.ipynb\n",
      "out line: -rw-rw-r-- 1 marek marek 5243 lip 30  2023 junit.ipynb\n",
      "out line: -rw-rw-r-- 1 marek marek 9945 sty 19  2024 mygithub.ipynb\n"
     ]
    },
    {
     "data": {
      "text/plain": [
       "[]"
      ]
     },
     "execution_count": 30,
     "metadata": {},
     "output_type": "execute_result"
    }
   ],
   "execution_count": 30
  },
  {
   "cell_type": "code",
   "source": [
    "val kommand = ls { -LongFormat; -All }\n",
    "val  eprocess = getSysCLI().lx(kommand)\n",
    "runBlocking { \n",
    "    eprocess.stdout.take(5).onEach { delay(1000) }.collect { println(\"out line: $it\") }\n",
    "    eprocess.awaitExit()\n",
    "}"
   ],
   "metadata": {
    "collapsed": false,
    "ExecuteTime": {
     "end_time": "2024-07-29T11:44:57.826858793Z",
     "start_time": "2024-07-29T11:44:52.291387064Z"
    }
   },
   "outputs": [
    {
     "name": "stdout",
     "output_type": "stream",
     "text": [
      "out line: total 40\n",
      "out line: drwxrwxr-x 2 marek marek 4096 lip 29 13:44 .\n",
      "out line: drwxrwxr-x 5 marek marek 4096 lip 29 12:38 ..\n",
      "out line: -rw-rw-r-- 1 marek marek 8922 lip 29 13:44 demo1.ipynb\n",
      "out line: -rw-rw-r-- 1 marek marek 5243 lip 30  2023 junit.ipynb\n"
     ]
    },
    {
     "data": {
      "text/plain": [
       "0"
      ]
     },
     "execution_count": 31,
     "metadata": {},
     "output_type": "execute_result"
    }
   ],
   "execution_count": 31
  },
  {
   "cell_type": "code",
   "source": [
    "import pl.mareklangiewicz.kground.*\n",
    "\n",
    "runBlocking { \n",
    "  LsSamples.lsParentWithSlashes.axb().logEach()\n",
    "}"
   ],
   "metadata": {
    "collapsed": false,
    "ExecuteTime": {
     "end_time": "2024-07-29T11:46:38.762319916Z",
     "start_time": "2024-07-29T11:46:38.716253345Z"
    }
   },
   "outputs": [
    {
     "name": "stderr",
     "output_type": "stream",
     "text": [
      "Line_41.jupyter.kts (4:39 - 46) Cannot inline bytecode built with JVM bytecode version 66 into bytecode that is being built with JVM target 17. Please specify proper '-jvm-target' option"
     ]
    }
   ],
   "execution_count": 34
  },
  {
   "cell_type": "code",
   "execution_count": null,
   "outputs": [],
   "source": [
    "import pl.mareklangiewicz.kommand.konfig.*\n",
    "\n",
    "SYS.konfigInUserHomeConfigDir().logEachKeyVal()"
   ],
   "metadata": {
    "collapsed": false
   }
  },
  {
   "cell_type": "code",
   "execution_count": null,
   "outputs": [],
   "source": [
    "import pl.mareklangiewicz.kommand.admin.*\n",
    "import pl.mareklangiewicz.kommand.debian.*\n",
    "import pl.mareklangiewicz.kommand.debian.DpkgAct.*\n",
    "import pl.mareklangiewicz.kommand.gnome.*\n",
    "import pl.mareklangiewicz.kommand.samples.Samples\n",
    "\n",
    "SYS.run {\n",
    "    val k =\n",
    "//        Samples.GitHub.help\n",
    "//        Samples.GitHub.secretListForAbcdK\n",
    "//        Samples.GitHub.repoListNamesLangaraKotlinPublicNotForksLimitBig\n",
    "//        Samples.GitHub.mareklangiewiczPublicRepoListNamesAndUrls\n",
    "//        Samples.GitHub.repoListAvailableJsonFields\n",
    "//        Samples.GitHub.secretSetFakeSecretInAbcdK\n",
    "        Samples.Core.Echo.echoTwoParagraphsWithEscapes\n",
    "//        dpkg { -PrintArch }\n",
    "//        dpkg(Status(\"apt\"))\n",
    "//        dpkg(Details(\"findutils\"))\n",
    "//        sudo(bash(\"whoami; pwd; ls\"))\n",
    "//        sudo(kommand(\"aptitude\"))\n",
    "//        sudoEdit(\"/etc/hosts\")\n",
    "//        sudoEdit(\"/etc/fstab\")\n",
    "//        kommand(\"whoami\").withSudo(SudoOpt.User(zenityAskForEntryExec(\"Enter some user name\")))\n",
    "    startInTermIfUserConfirms(k)\n",
    "}\n"
   ],
   "metadata": {
    "collapsed": false
   }
  },
  {
   "cell_type": "code",
   "execution_count": null,
   "outputs": [],
   "source": [
    "import pl.mareklangiewicz.kommand.samples.*\n",
    "\n",
    "Samples.GitHub.secretSetConcreteFakeSecret66InAbcdK.reducedKommand.xb()"
   ],
   "metadata": {
    "collapsed": false
   }
  },
  {
   "cell_type": "code",
   "execution_count": null,
   "outputs": [],
   "source": [
    "import pl.mareklangiewicz.kommand.debian.*\n",
    "\n",
    "SYS.dpkgSearchOneCommandExec(\"ssh\")"
   ],
   "metadata": {
    "collapsed": false
   }
  },
  {
   "cell_type": "code",
   "execution_count": null,
   "outputs": [],
   "source": [
    "FindSamples.findInKotlinDirNodeModulesDirs.xb { println(it) }"
   ],
   "metadata": {
    "collapsed": false
   }
  },
  {
   "cell_type": "code",
   "execution_count": null,
   "outputs": [],
   "source": [
    "\n",
    "import pl.mareklangiewicz.kground.*\n",
    "import pl.mareklangiewicz.kommand.admin.*\n",
    "\n",
    "withPrintingBadStreams { \n",
    "    sudo(ls(\"/root/\", withHidden = true), inPass = SYS.zenityAskForPasswordExec()).xb().logEach()\n",
    "}"
   ],
   "metadata": {
    "collapsed": false
   }
  },
  {
   "cell_type": "code",
   "execution_count": null,
   "outputs": [],
   "source": [
    "@file:Suppress(\"DEPRECATION\")\n",
    "\n",
    "import pl.mareklangiewicz.kommand.admin.*\n",
    "import pl.mareklangiewicz.kommand.find.*\n",
    "import kotlin.time.*\n",
    "import kotlin.time.TimeSource.*\n",
    "\n",
    "val k = FindSamples.run {\n",
    "//    findAbcIgnoreCase\n",
    "    findSomeSamples\n",
    "//    findInKotlinDirNodeModulesDirs\n",
    "//    findInKotlinDirBuildDirs\n",
    "//    findSymLinksToKtsFilesInKGround\n",
    "//    findDepthMax2FilesInDepsKtAndRunFileOnEach\n",
    "//    findInKotlinKtFilesModifiedIn24h\n",
    "//    findMyLastWeekKotlinCode\n",
    "//    findInKotlinDirNodeModulesDirs\n",
    "}\n",
    "val p = SYS.start(k)\n",
    "p.stdout.logb()"
   ],
   "metadata": {
    "collapsed": false
   }
  },
  {
   "cell_type": "code",
   "execution_count": null,
   "outputs": [],
   "source": [
    "import pl.mareklangiewicz.kommand.find.*\n",
    "\n",
    "//val tk = findTypicalDetailsTable(\"..\")\n",
    "val tk = FindSamples.findTypicalDetailsTableInParentDir.typedKommand\n",
    "val tp = SYS.start(tk)\n",
    "tp.stdout.onEach { delay(200) }.take(20).logb()\n"
   ],
   "metadata": {
    "collapsed": false
   }
  },
  {
   "cell_type": "code",
   "execution_count": null,
   "outputs": [],
   "source": [
    "\n",
    "findMyKotlinCode(\n",
    "    withGrepRE = \"import\",\n",
    "    withModifTime24h = FindExpr.NumArg.LessThan(8)\n",
    ").chkInGVim()"
   ],
   "metadata": {
    "collapsed": false
   }
  },
  {
   "cell_type": "code",
   "execution_count": null,
   "outputs": [],
   "source": [
    "import pl.mareklangiewicz.kommand.gnome.*\n",
    "\n",
    "SYS.run {\n",
    "    startInTermIfUserConfirms(adb(Adb.Command.pair(\"192.168.0.125\", 38451)))\n",
    "}"
   ],
   "metadata": {
    "collapsed": false
   }
  }
 ],
 "metadata": {
  "kernelspec": {
   "display_name": "Kotlin",
   "language": "kotlin",
   "name": "kotlin"
  },
  "language_info": {
   "name": "kotlin",
   "version": "1.8.20",
   "mimetype": "text/x-kotlin",
   "file_extension": ".kt",
   "pygments_lexer": "kotlin",
   "codemirror_mode": "text/x-kotlin",
   "nbconvert_exporter": ""
  },
  "ktnbPluginMetadata": {
   "projectDependencies": true
  }
 },
 "nbformat": 4,
 "nbformat_minor": 0
}
