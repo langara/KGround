{
 "cells": [
  {
   "cell_type": "code",
   "execution_count": null,
   "outputs": [],
   "source": [
    "%use coroutines\n",
    "\n",
    "import kotlinx.coroutines.flow.*\n",
    "import pl.mareklangiewicz.kommand.*\n",
    "import pl.mareklangiewicz.kommand.CliPlatform.Companion.SYS\n",
    "import pl.mareklangiewicz.kommand.core.*\n",
    "import kotlin.time.*\n",
    "\n",
    "// TODO NOW: go through this whole notebook again (commented versions too) after refactor; also test input/output flows (like slow find output)\n",
    "// TODO NOW: analyze ProcessBuilder.startPipeline and understand assumptions/invariants and make sure my \"pipelines\" with line flows are correct.\n",
    "//    also reproduce example from ProcessBuilder.startPipeline javadoc using my stuff"
   ],
   "metadata": {
    "collapsed": false
   }
  },
  {
   "cell_type": "code",
   "execution_count": null,
   "outputs": [],
   "source": [
    "import pl.mareklangiewicz.kommand.gnome.*\n",
    "import pl.mareklangiewicz.kommand.gnome.GnomeExt.Cmd.list\n",
    "import pl.mareklangiewicz.kommand.core.LsOpt.*\n",
    "import pl.mareklangiewicz.kommand.term.*\n",
    "\n",
    "SYS.run {\n",
    "    start(termGnome(bash(gnomeext(list), pause = true)))\n",
    "    start(termGnome(bash(ls { -LongFormat; -All }, pause = true)))\n",
    "}"
   ],
   "metadata": {
    "collapsed": false
   }
  },
  {
   "cell_type": "code",
   "execution_count": null,
   "outputs": [],
   "source": [
    "import pl.mareklangiewicz.kground.*\n",
    "import pl.mareklangiewicz.kommand.core.LsOpt.*\n",
    "import pl.mareklangiewicz.upue.*\n",
    "\n",
    "ls { -LongFormat; -All }.xb {\n",
    "    println(\"out line: $it\")\n",
    "}\n"
   ],
   "metadata": {
    "collapsed": false
   }
  },
  {
   "cell_type": "code",
   "execution_count": null,
   "outputs": [],
   "source": [
    "val k = ls { -LongFormat; -All }\n",
    "val  ep = SYS.start(k)\n",
    "runBlocking { \n",
    "    ep.stdout.take(5).onEach { delay(1000) }.collect { println(\"out line: $it\") }\n",
    "    ep.awaitExit()\n",
    "}"
   ],
   "metadata": {
    "collapsed": false
   }
  },
  {
   "cell_type": "code",
   "execution_count": null,
   "outputs": [],
   "source": [
    "import pl.mareklangiewicz.kground.*\n",
    "\n",
    "LsSamples.lsParentWithSlashes.xb().logEach()"
   ],
   "metadata": {
    "collapsed": false
   }
  },
  {
   "cell_type": "code",
   "execution_count": null,
   "outputs": [],
   "source": [
    "import pl.mareklangiewicz.kommand.konfig.*\n",
    "\n",
    "SYS.konfigInUserHomeConfigDir().logEachKeyVal()"
   ],
   "metadata": {
    "collapsed": false
   }
  },
  {
   "cell_type": "code",
   "execution_count": null,
   "outputs": [],
   "source": [
    "import pl.mareklangiewicz.kommand.admin.*\n",
    "import pl.mareklangiewicz.kommand.debian.*\n",
    "import pl.mareklangiewicz.kommand.debian.DpkgAct.*\n",
    "import pl.mareklangiewicz.kommand.gnome.*\n",
    "import pl.mareklangiewicz.kommand.samples.Samples\n",
    "\n",
    "SYS.run {\n",
    "    val k =\n",
    "//        Samples.GitHub.help\n",
    "//        Samples.GitHub.secretListForAbcdK\n",
    "//        Samples.GitHub.repoListNamesLangaraKotlinPublicNotForksLimitBig\n",
    "//        Samples.GitHub.mareklangiewiczPublicRepoListNamesAndUrls\n",
    "//        Samples.GitHub.repoListAvailableJsonFields\n",
    "//        Samples.GitHub.secretSetFakeSecretInAbcdK\n",
    "        Samples.Core.Echo.echoTwoParagraphsWithEscapes\n",
    "//        dpkg { -PrintArch }\n",
    "//        dpkg(Status(\"apt\"))\n",
    "//        dpkg(Details(\"findutils\"))\n",
    "//        sudo(bash(\"whoami; pwd; ls\"))\n",
    "//        sudo(kommand(\"aptitude\"))\n",
    "//        sudoEdit(\"/etc/hosts\")\n",
    "//        sudoEdit(\"/etc/fstab\")\n",
    "//        kommand(\"whoami\").withSudo(SudoOpt.User(zenityAskForEntryExec(\"Enter some user name\")))\n",
    "    startInTermIfUserConfirms(k)\n",
    "}\n"
   ],
   "metadata": {
    "collapsed": false
   }
  },
  {
   "cell_type": "code",
   "execution_count": null,
   "outputs": [],
   "source": [
    "import pl.mareklangiewicz.kommand.samples.*\n",
    "\n",
    "Samples.GitHub.secretSetConcreteFakeSecret66InAbcdK.reducedKommand.xb()"
   ],
   "metadata": {
    "collapsed": false
   }
  },
  {
   "cell_type": "code",
   "execution_count": null,
   "outputs": [],
   "source": [
    "import pl.mareklangiewicz.kommand.debian.*\n",
    "\n",
    "SYS.dpkgSearchOneCommandExec(\"ssh\")"
   ],
   "metadata": {
    "collapsed": false
   }
  },
  {
   "cell_type": "code",
   "execution_count": null,
   "outputs": [],
   "source": [
    "FindSamples.findInKotlinDirNodeModulesDirs.xb { println(it) }"
   ],
   "metadata": {
    "collapsed": false
   }
  },
  {
   "cell_type": "code",
   "execution_count": null,
   "outputs": [],
   "source": [
    "\n",
    "import pl.mareklangiewicz.kground.*\n",
    "import pl.mareklangiewicz.kommand.admin.*\n",
    "\n",
    "withPrintingBadStreams { \n",
    "    sudo(ls(\"/root/\", withHidden = true), inPass = SYS.zenityAskForPasswordExec()).xb().logEach()\n",
    "}"
   ],
   "metadata": {
    "collapsed": false
   }
  },
  {
   "cell_type": "code",
   "execution_count": null,
   "outputs": [],
   "source": [
    "@file:Suppress(\"DEPRECATION\")\n",
    "\n",
    "import pl.mareklangiewicz.kommand.admin.*\n",
    "import pl.mareklangiewicz.kommand.find.*\n",
    "import kotlin.time.*\n",
    "import kotlin.time.TimeSource.*\n",
    "\n",
    "val k = FindSamples.run {\n",
    "//    findAbcIgnoreCase\n",
    "    findSomeSamples\n",
    "//    findInKotlinDirNodeModulesDirs\n",
    "//    findInKotlinDirBuildDirs\n",
    "//    findSymLinksToKtsFilesInKGround\n",
    "//    findDepthMax2FilesInDepsKtAndRunFileOnEach\n",
    "//    findInKotlinKtFilesModifiedIn24h\n",
    "//    findMyLastWeekKotlinCode\n",
    "//    findInKotlinDirNodeModulesDirs\n",
    "}\n",
    "val p = SYS.start(k)\n",
    "p.stdout.logb()"
   ],
   "metadata": {
    "collapsed": false
   }
  },
  {
   "cell_type": "code",
   "execution_count": null,
   "outputs": [],
   "source": [
    "import pl.mareklangiewicz.kommand.find.*\n",
    "\n",
    "//val tk = findTypicalDetailsTable(\"..\")\n",
    "val tk = FindSamples.findTypicalDetailsTableInParentDir.typedKommand\n",
    "val tp = SYS.start(tk)\n",
    "tp.stdout.onEach { delay(200) }.take(20).logb()\n"
   ],
   "metadata": {
    "collapsed": false
   }
  },
  {
   "cell_type": "code",
   "execution_count": null,
   "outputs": [],
   "source": [
    "\n",
    "findMyKotlinCode(\n",
    "    withGrepRE = \"import\",\n",
    "    withModifTime24h = FindExpr.NumArg.LessThan(8)\n",
    ").chkInGVim()"
   ],
   "metadata": {
    "collapsed": false
   }
  },
  {
   "cell_type": "code",
   "execution_count": null,
   "outputs": [],
   "source": [
    "import pl.mareklangiewicz.kommand.gnome.*\n",
    "\n",
    "SYS.run {\n",
    "    startInTermIfUserConfirms(adb(Adb.Command.pair(\"192.168.0.125\", 38451)))\n",
    "}"
   ],
   "metadata": {
    "collapsed": false
   }
  }
 ],
 "metadata": {
  "kernelspec": {
   "display_name": "Kotlin",
   "language": "kotlin",
   "name": "kotlin"
  },
  "language_info": {
   "name": "kotlin",
   "version": "1.8.20",
   "mimetype": "text/x-kotlin",
   "file_extension": ".kt",
   "pygments_lexer": "kotlin",
   "codemirror_mode": "text/x-kotlin",
   "nbconvert_exporter": ""
  },
  "ktnbPluginMetadata": {
   "projectDependencies": true
  }
 },
 "nbformat": 4,
 "nbformat_minor": 0
}
